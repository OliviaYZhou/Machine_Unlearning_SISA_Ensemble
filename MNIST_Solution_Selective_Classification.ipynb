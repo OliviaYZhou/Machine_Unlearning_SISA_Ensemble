{
  "nbformat": 4,
  "nbformat_minor": 0,
  "metadata": {
    "colab": {
      "provenance": [],
      "collapsed_sections": [
        "dK3Yyp042kpB",
        "ZdbOfL8ApQXt",
        "1zonObx94o72",
        "76SIisuh6gSD",
        "U96mzVUe6til",
        "LcAgMyA1ZPsi"
      ]
    },
    "kernelspec": {
      "name": "python3",
      "display_name": "Python 3"
    },
    "language_info": {
      "name": "python"
    }
  },
  "cells": [
    {
      "cell_type": "code",
      "execution_count": null,
      "metadata": {
        "id": "SFiPSN1JpudX"
      },
      "outputs": [],
      "source": [
        "import tensorflow as tf\n",
        "from tensorflow.keras import layers, models\n",
        "from tensorflow.keras.datasets import mnist\n",
        "from tensorflow.keras.utils import to_categorical\n",
        "import numpy as np\n",
        "from sklearn.model_selection import KFold\n",
        "from sklearn.metrics import accuracy_score\n",
        "from sklearn.model_selection import train_test_split\n",
        "import time\n",
        "import matplotlib.pyplot as plt"
      ]
    },
    {
      "cell_type": "markdown",
      "source": [
        "## Data Loading and Preprocessing\n",
        "Reusable function for the different models."
      ],
      "metadata": {
        "id": "dK3Yyp042kpB"
      }
    },
    {
      "cell_type": "code",
      "source": [
        "def load_and_preprocess_mnist():\n",
        "  \"\"\"\n",
        "  Load and preprocess the MNIST dataset.\n",
        "\n",
        "  This function loads the MNIST dataset, shuffles the training data,\n",
        "  scales the images to the [0, 1] range, ensures that images have the shape (28, 28, 1),\n",
        "  and converts class vectors to binary class matrices.\n",
        "\n",
        "  Returns:\n",
        "  Tuple of two tuples:\n",
        "      - First tuple: (x_train, y_train) - Training data and labels\n",
        "      - Second tuple: (x_test, y_test) - Testing data and labels\n",
        "  \"\"\"\n",
        "\n",
        "  num_classes = 10\n",
        "  input_shape = (28, 28, 1)\n",
        "\n",
        "  # Load the data\n",
        "  (x_train, y_train), (x_test, y_test) = mnist.load_data()\n",
        "\n",
        "  # Shuffle the training data\n",
        "  indices = np.arange(x_train.shape[0])\n",
        "  np.random.shuffle(indices)\n",
        "  x_train = x_train[indices]\n",
        "  y_train = y_train[indices]\n",
        "\n",
        "  # Scale images to the [0, 1] range\n",
        "  x_train = x_train.astype(\"float32\") / 255\n",
        "  x_test = x_test.astype(\"float32\") / 255\n",
        "  # Make sure images have shape (28, 28, 1)\n",
        "  x_train = np.expand_dims(x_train, -1)\n",
        "  x_test = np.expand_dims(x_test, -1)\n",
        "\n",
        "  # Convert class vectors to binary class matrices\n",
        "  y_train = to_categorical(y_train, num_classes)\n",
        "  y_test = to_categorical(y_test, num_classes)\n",
        "\n",
        "  return (x_train, y_train), (x_test, y_test)"
      ],
      "metadata": {
        "id": "pd6l8zz32kSu"
      },
      "execution_count": null,
      "outputs": []
    },
    {
      "cell_type": "markdown",
      "source": [
        "Load data"
      ],
      "metadata": {
        "id": "FjkUdAotFJi9"
      }
    },
    {
      "cell_type": "code",
      "source": [
        "(x_train, y_train), (x_test, y_test) = load_and_preprocess_mnist()"
      ],
      "metadata": {
        "id": "xHRB3kpD-ekO",
        "colab": {
          "base_uri": "https://localhost:8080/"
        },
        "outputId": "9f4fb3dd-bddb-4c4e-90db-b34903f3303a"
      },
      "execution_count": null,
      "outputs": [
        {
          "output_type": "stream",
          "name": "stdout",
          "text": [
            "Downloading data from https://storage.googleapis.com/tensorflow/tf-keras-datasets/mnist.npz\n",
            "11490434/11490434 [==============================] - 0s 0us/step\n"
          ]
        }
      ]
    },
    {
      "cell_type": "markdown",
      "source": [
        "# The SISA Approach"
      ],
      "metadata": {
        "id": "bsqmxgVJ9Kn8"
      }
    },
    {
      "cell_type": "markdown",
      "source": [
        "Model from ChatGPT.\n",
        "\n",
        "Prompt: \"Provide a simple MNIST model in Keras that achieves high accuracy.\""
      ],
      "metadata": {
        "id": "eBxmK4OmKEe9"
      }
    },
    {
      "cell_type": "code",
      "source": [
        "def createModel():\n",
        "  \"\"\"\n",
        "  Create a convolutional neural network model for image classification.\n",
        "\n",
        "  This model was obtained from ChatGPT with prompt: Provide a simple MNIST\n",
        "  model in Keras that achieves high accuracy.\n",
        "  \"\"\"\n",
        "  model = models.Sequential([\n",
        "      layers.Conv2D(32, (3, 3), activation='relu', input_shape=(28, 28, 1)),\n",
        "      layers.MaxPooling2D((2, 2)),\n",
        "      layers.Conv2D(64, (3, 3), activation='relu'),\n",
        "      layers.Flatten(),\n",
        "      layers.Dense(64, activation='relu'),\n",
        "      layers.Dense(10, activation='softmax')\n",
        "  ])\n",
        "  return model"
      ],
      "metadata": {
        "id": "OwZd8PEMo3ot"
      },
      "execution_count": null,
      "outputs": []
    },
    {
      "cell_type": "markdown",
      "source": [
        "### Create ensemble functions:"
      ],
      "metadata": {
        "id": "ZdbOfL8ApQXt"
      }
    },
    {
      "cell_type": "markdown",
      "source": [
        "Method 1: Without slices."
      ],
      "metadata": {
        "id": "0qQXmJWypXX4"
      }
    },
    {
      "cell_type": "code",
      "source": [
        "def createEnsembleShardsNoSlices(num_shards, model_fn, epochs=1, batch_size=64):\n",
        "  \"\"\"\n",
        "  Create an ensemble of `num_shards` \"shard models\" that share the same\n",
        "  architecture and are trained on `num_shards` disjoint shards of the original dataset.\n",
        "\n",
        "  Parameters:\n",
        "  - num_shards (int): The number of shard models in the ensemble.\n",
        "  - model_fn (function): A function that returns an instance of the model architecture.\n",
        "  - epochs (int): The number of epochs to train each shard model. Default is 1.\n",
        "  - batch_size (int): The batch size used during training. Default is 64.\n",
        "\n",
        "  Returns:\n",
        "  - ensemble (list): A list containing the trained shard models forming the ensemble.\n",
        "  \"\"\"\n",
        "\n",
        "  ensemble = []\n",
        "\n",
        "  subset_size = len(x_train) // num_shards\n",
        "\n",
        "  for i in range(num_shards):\n",
        "    start_index = i * subset_size\n",
        "    end_index = (i + 1) * subset_size if i < num_shards - 1 else len(x_train)\n",
        "\n",
        "    x_subset = x_train[start_index:end_index]\n",
        "    y_subset = y_train[start_index:end_index]\n",
        "\n",
        "    model = model_fn()\n",
        "\n",
        "    model.compile(optimizer='adam', loss='categorical_crossentropy', metrics=['accuracy'])\n",
        "    model.fit(x_subset, y_subset, epochs=epochs, batch_size=batch_size, verbose=0)\n",
        "\n",
        "    ensemble.append(model)\n",
        "\n",
        "  return ensemble"
      ],
      "metadata": {
        "id": "x3cvtWR8Mpix"
      },
      "execution_count": null,
      "outputs": []
    },
    {
      "cell_type": "markdown",
      "source": [
        "Method 2: With slices, where each slice model uses one slice only, and storing the weights after each slice is learned."
      ],
      "metadata": {
        "id": "Rh35hnGrpapH"
      }
    },
    {
      "cell_type": "code",
      "source": [
        "def createEnsemble2(num_shards, num_slices, model_fn, num_epochs, batch_size=64):\n",
        "  \"\"\"\n",
        "  SISA but training sets are disjoint. Constant epochs with respect to slice.\n",
        "  Create an ensemble of `num_shards` \"shard models\" that share the same\n",
        "  architecture and are trained on disjoint shards of the original dataset.\n",
        "  Additionally, record the set of weights for each shard model after learning each slice.\n",
        "\n",
        "  Parameters:\n",
        "  - num_shards (int): The number of shard models in the ensemble.\n",
        "  - num_slices (int): The number of slices for each shard model.\n",
        "  - model_fn (function): A function that returns an instance of the model architecture.\n",
        "  - epochs (int): The number of epochs to train each shard model on each slice. Default is 1.\n",
        "  - batch_size (int): The batch size used during training. Default is 64.\n",
        "\n",
        "  Returns:\n",
        "  - ensemble (list): A list containing the trained shard models forming the ensemble.\n",
        "  - shard_slice_weights (list): A 2D list (shape: (num_shards, num_slices)) storing the set of weights\n",
        "        of each shard model after learning each slice.\n",
        "  \"\"\"\n",
        "\n",
        "  # An array to store each shard model\n",
        "  ensemble = []\n",
        "  # An array of shape (num_shards, num_slices) to store the set of weights of\n",
        "  # each shard model after learning a slice\n",
        "  shard_slice_weights = []\n",
        "\n",
        "  shard_size = len(x_train) // num_shards\n",
        "  slice_size = shard_size // num_slices\n",
        "\n",
        "  # Outer loop to iterate through the different shards (subsets) to create an\n",
        "  # ensemble of \"shard models\" trained on disjoint shards of the dataset.\n",
        "  for i in range(num_shards):\n",
        "    # Array to store weights of the shard model after learning each slice\n",
        "    slice_weights = []\n",
        "\n",
        "    start_index = i * shard_size\n",
        "    end_index = (i + 1) * shard_size if i < num_shards - 1 else len(x_train)\n",
        "\n",
        "    x_subset = x_train[start_index:end_index]\n",
        "    y_subset = y_train[start_index:end_index]\n",
        "\n",
        "    model = model_fn()\n",
        "    model.compile(optimizer='adam', loss='categorical_crossentropy', metrics=['accuracy'])\n",
        "\n",
        "    # Inner loop to iterate through the slices (sub-subsets)\n",
        "    for j in range(num_slices):\n",
        "      slice_start = j * slice_size\n",
        "      slice_end = (j + 1) * slice_size if j < num_slices - 1 else shard_size\n",
        "\n",
        "      x_slice = x_subset[slice_start:slice_end]\n",
        "      y_slice = y_subset[slice_start:slice_end]\n",
        "\n",
        "      model.fit(x_slice, y_slice, epochs=(num_epochs // num_slices), batch_size=batch_size, verbose=0)\n",
        "\n",
        "      slice_weights.append(model.get_weights())\n",
        "\n",
        "    ensemble.append(model)\n",
        "    shard_slice_weights.append(slice_weights)\n",
        "\n",
        "  return ensemble, shard_slice_weights"
      ],
      "metadata": {
        "id": "v2jNjCIdpA1A"
      },
      "execution_count": null,
      "outputs": []
    },
    {
      "cell_type": "markdown",
      "source": [
        "Method 3: SISA"
      ],
      "metadata": {
        "id": "61shjjPNbUai"
      }
    },
    {
      "cell_type": "code",
      "source": [
        "def createEnsembleSISA(num_shards, num_slices, model_fn, num_epochs, batch_size=64):\n",
        "  \"\"\"\n",
        "  SISA. Constant epochs with respect to slice.\n",
        "  Create an ensemble of `num_shards` \"shard models\" that share the same\n",
        "  architecture and are trained on disjoint shards of the original dataset.\n",
        "  Additionally, record the set of weights for each shard model after learning each slice.\n",
        "\n",
        "  Parameters:\n",
        "  - num_shards (int): The number of shard models in the ensemble.\n",
        "  - num_slices (int): The number of slices for each shard model.\n",
        "  - model_fn (function): A function that returns an instance of the model architecture.\n",
        "  - epochs (int): The number of epochs to train each shard model on each slice. Default is 1.\n",
        "  - batch_size (int): The batch size used during training. Default is 64.\n",
        "\n",
        "  Returns:\n",
        "  - ensemble (list): A list containing the trained shard models forming the ensemble.\n",
        "  - shard_slice_weights (list): A 2D list (shape: (num_shards, num_slices)) storing the set of weights\n",
        "        of each shard model after learning each slice.\n",
        "  \"\"\"\n",
        "\n",
        "  # An array to store each shard model\n",
        "  ensemble = []\n",
        "  # An array of shape (num_shards, num_slices) to store the set of weights of\n",
        "  # each shard model after learning a slice\n",
        "  shard_slice_weights = []\n",
        "\n",
        "  shard_size = len(x_train) // num_shards\n",
        "  slice_size = shard_size // num_slices\n",
        "\n",
        "  # Outer loop to iterate through the different shards (subsets) to create an\n",
        "  # ensemble of \"shard models\" trained on disjoint shards of the dataset.\n",
        "  for i in range(num_shards):\n",
        "    # Array to store weights of the shard model after learning each slice\n",
        "    slice_weights = []\n",
        "\n",
        "    start_index = 0\n",
        "    end_index = (i + 1) * shard_size if i < num_shards - 1 else len(x_train)\n",
        "\n",
        "    x_subset = x_train[start_index:end_index]\n",
        "    y_subset = y_train[start_index:end_index]\n",
        "\n",
        "    model = model_fn()\n",
        "    model.compile(optimizer='adam', loss='categorical_crossentropy', metrics=['accuracy'])\n",
        "\n",
        "    # Inner loop to iterate through the slices (sub-subsets)\n",
        "    for j in range(num_slices):\n",
        "      slice_start = j * slice_size\n",
        "      slice_end = (j + 1) * slice_size if j < num_slices - 1 else shard_size\n",
        "\n",
        "      x_slice = x_subset[slice_start:slice_end]\n",
        "      y_slice = y_subset[slice_start:slice_end]\n",
        "\n",
        "      model.fit(x_slice, y_slice, epochs=(num_epochs // num_slices), batch_size=batch_size, verbose=0)\n",
        "\n",
        "      slice_weights.append(model.get_weights())\n",
        "\n",
        "    ensemble.append(model)\n",
        "    shard_slice_weights.append(slice_weights)\n",
        "\n",
        "  return ensemble, shard_slice_weights"
      ],
      "metadata": {
        "id": "GQ2WNc8wZ2Nz"
      },
      "execution_count": null,
      "outputs": []
    },
    {
      "cell_type": "markdown",
      "source": [
        "Method 4: SISA with variable slice-wise epochs"
      ],
      "metadata": {
        "id": "UpPSDDHsbWYh"
      }
    },
    {
      "cell_type": "code",
      "source": [
        "def createEnsembleSISAVariable(num_shards, num_slices, model_fn, num_epochs, num_forget, batch_size=64):\n",
        "  \"\"\"\n",
        "  SISA, but variable epochs with respect to slice.\n",
        "  Create an ensemble of `num_shards` \"shard models\" that share the same\n",
        "  architecture and are trained on disjoint shards of the original dataset.\n",
        "  Additionally, record the set of weights for each shard model after learning each slice.\n",
        "\n",
        "  Parameters:\n",
        "  - num_shards (int): The number of shard models in the ensemble.\n",
        "  - num_slices (int): The number of slices for each shard model.\n",
        "  - model_fn (function): A function that returns an instance of the model architecture.\n",
        "  - epochs (int): The number of epochs to train each shard model on each slice. Default is 1.\n",
        "  - batch_size (int): The batch size used during training. Default is 64.\n",
        "\n",
        "  Returns:\n",
        "  - ensemble (list): A list containing the trained shard models forming the ensemble.\n",
        "  - shard_slice_weights (list): A 2D list (shape: (num_shards, num_slices)) storing the set of weights\n",
        "        of each shard model after learning each slice.\n",
        "  \"\"\"\n",
        "\n",
        "  # An array to store each shard model\n",
        "  ensemble = []\n",
        "  # An array of shape (num_shards, num_slices) to store the set of weights of\n",
        "  # each shard model after learning a slice\n",
        "  shard_slice_weights = []\n",
        "\n",
        "  shard_size = len(x_train) // num_shards\n",
        "  slice_size = shard_size // num_slices\n",
        "\n",
        "  # Outer loop to iterate through the different shards (subsets) to create an\n",
        "  # ensemble of \"shard models\" trained on disjoint shards of the dataset.\n",
        "  for i in range(num_shards):\n",
        "    # Array to store weights of the shard model after learning each slice\n",
        "    slice_weights = []\n",
        "\n",
        "    start_index = 0\n",
        "    end_index = (i + 1) * shard_size if i < num_shards - 1 else len(x_train)\n",
        "\n",
        "    x_subset = x_train[start_index:end_index]\n",
        "    y_subset = y_train[start_index:end_index]\n",
        "\n",
        "    model = model_fn()\n",
        "    model.compile(optimizer='adam', loss='categorical_crossentropy', metrics=['accuracy'])\n",
        "\n",
        "    # Inner loop to iterate through the slices (sub-subsets)\n",
        "    for j in range(num_slices):\n",
        "      slice_start = j * slice_size\n",
        "      slice_end = (j + 1) * slice_size if j < num_slices - 1 else shard_size\n",
        "\n",
        "      x_slice = x_subset[slice_start:slice_end]\n",
        "      y_slice = y_subset[slice_start:slice_end]\n",
        "\n",
        "      model.fit(x_slice, y_slice, epochs=(num_epochs // num_slices), batch_size=batch_size, verbose=0)\n",
        "\n",
        "      slice_weights.append(model.get_weights())\n",
        "\n",
        "    ensemble.append(model)\n",
        "    shard_slice_weights.append(slice_weights)\n",
        "\n",
        "  return ensemble, shard_slice_weights"
      ],
      "metadata": {
        "id": "gT4KNpI4bvKE"
      },
      "execution_count": null,
      "outputs": []
    },
    {
      "cell_type": "markdown",
      "source": [
        "### Testing Accuracy w/ Different Ensembling Methods"
      ],
      "metadata": {
        "id": "1zonObx94o72"
      }
    },
    {
      "cell_type": "code",
      "source": [
        "def testEnsemble(ensemble, x_test, y_test):\n",
        "  \"\"\"\n",
        "  Test the accuracies of an ensemble of models.\n",
        "  One ensembling method is simply the majority vote, and another is a weighted\n",
        "  majority vote.\n",
        "\n",
        "  Parameters:\n",
        "  - ensemble (list): A list of individual models to form the ensemble.\n",
        "  - x_test (numpy.ndarray): Testing data.\n",
        "  - y_test (numpy.ndarray): True labels for the testing data.\n",
        "\n",
        "  Returns:\n",
        "  - majority_ensemble_accuracy (float): Accuracy of the ensemble based on majority voting.\n",
        "  - weighted_ensemble_accuracy (float): Accuracy of the ensemble based on weighted voting.\n",
        "  - individual_accuracies (list): List of accuracies for each individual model in the ensemble.\n",
        "  \"\"\"\n",
        "\n",
        "  x_test, x_val, y_test, y_val = train_test_split(x_test, y_test, test_size=0.5, random_state=42)\n",
        "\n",
        "  # Initialize arrays for storing predictions and accuracies\n",
        "  ensemble_predictions = np.zeros_like(y_test)\n",
        "  weighted_predictions = np.zeros_like(y_test)\n",
        "  individual_accuracies = [] # Accuracies for the individual models within the ensemble\n",
        "\n",
        "  for model in ensemble:\n",
        "    model_predictions = model.predict(x_test, verbose=0)\n",
        "    test_loss, test_acc = model.evaluate(x_test, y_test, verbose=0)\n",
        "    val_loss, val_acc = model.evaluate(x_val, y_val, verbose=0)\n",
        "    individual_accuracies.append(test_acc)\n",
        "\n",
        "    # Update the ensemble predictions\n",
        "    ensemble_predictions += model_predictions # Regular predictions\n",
        "    weighted_predictions += model_predictions * val_acc # Weighted predictions\n",
        "\n",
        "  # Take the majority vote and weighted vote\n",
        "  ensemble_predictions = np.argmax(ensemble_predictions, axis=1)\n",
        "  weighted_predictions = np.argmax(weighted_predictions, axis=1)\n",
        "\n",
        "  # Convert true labels to indices\n",
        "  true_labels = np.argmax(y_test, axis=1)\n",
        "\n",
        "  # Calculate accuracy of the ensemble\n",
        "  majority_ensemble_accuracy = accuracy_score(true_labels, ensemble_predictions)\n",
        "  weighted_ensemble_accuracy = accuracy_score(true_labels, weighted_predictions)\n",
        "  rate_same = accuracy_score(ensemble_predictions, weighted_predictions)\n",
        "\n",
        "  return majority_ensemble_accuracy, weighted_ensemble_accuracy, individual_accuracies, rate_same"
      ],
      "metadata": {
        "id": "_yN1nSJdEwjF"
      },
      "execution_count": null,
      "outputs": []
    },
    {
      "cell_type": "markdown",
      "source": [
        "#### Selective Classification"
      ],
      "metadata": {
        "id": "kNnSpUdoSfe9"
      }
    },
    {
      "cell_type": "code",
      "source": [
        "def selectiveClassificationPredictions(ensemble_and_checkpoints, x_test, y_test, threshold, first_slice_considered=0):\n",
        "  \"\"\"\n",
        "  Test the accuracies of an ensemble of models.\n",
        "  One ensembling method is simply the majority vote, and another is a weighted\n",
        "  majority vote.\n",
        "\n",
        "  Parameters:\n",
        "  - ensemble (list): A list of individual models to form the ensemble.\n",
        "  - x_test (numpy.ndarray): Testing data.\n",
        "  - y_test (numpy.ndarray): True labels for the testing data.\n",
        "\n",
        "  Returns:\n",
        "  - majority_ensemble_accuracy (float): Accuracy of the ensemble based on majority voting.\n",
        "  - weighted_ensemble_accuracy (float): Accuracy of the ensemble based on weighted voting.\n",
        "  - individual_accuracies (list): List of accuracies for each individual model in the ensemble.\n",
        "  \"\"\"\n",
        "\n",
        "  N_test, D = y_test.shape\n",
        "  model = createModel()\n",
        "\n",
        "  tens = np.ones(N_test) * 10\n",
        "  # Convert true labels to indices\n",
        "  true_labels = np.argmax(y_test, axis=1)\n",
        "\n",
        "  # Initialize array for storing predictions and accuracies\n",
        "  selective_classification_predictions = np.zeros_like(y_test)\n",
        "  ensemble_predictions = np.zeros((N_test, 11))\n",
        "  standard_ensemble_predictions = np.zeros_like(y_test)\n",
        "  individual_accuracies = [] # Accuracies for the individual models within the ensemble\n",
        "\n",
        "  num_shards = len(ensemble_and_checkpoints)\n",
        "  num_slices = len(ensemble_and_checkpoints[0])\n",
        "\n",
        "  for shard_index in range(num_shards):\n",
        "    print(\"Shard index: \", shard_index)\n",
        "    same_prediction = np.zeros(N_test)\n",
        "    model.set_weights(ensemble_and_checkpoints[shard_index][-1])\n",
        "    most_recent_model_predictions = model.predict(x_test, verbose=0)\n",
        "    most_recent_model_labels = np.argmax(most_recent_model_predictions, axis=1) # now labels\n",
        "\n",
        "    standard_ensemble_predictions += most_recent_model_predictions # Regular predictions\n",
        "\n",
        "    for slice_checkpoint_index in range(first_slice_considered, num_slices - 1):\n",
        "      print(\"slice_checkpoint_index: \", slice_checkpoint_index)\n",
        "      model.set_weights(ensemble_and_checkpoints[shard_index][slice_checkpoint_index])\n",
        "      slice_predictions = model.predict(x_test, verbose=0) # * ((slice_checkpoint_index + 1)**0.05 - 1)\n",
        "      slice_labels = np.argmax(slice_predictions, axis=1) # now labels\n",
        "      same_prediction += (slice_labels==most_recent_model_labels)\n",
        "\n",
        "    print(\"Shard index done: \", shard_index)\n",
        "    model_predictions = np.where(same_prediction >= threshold, most_recent_model_labels, tens)\n",
        "    individual_accuracies.append(accuracy_score(true_labels, model_predictions))\n",
        "\n",
        "    # Update the ensemble predictions\n",
        "    model_predictions = to_categorical(model_predictions, 11)\n",
        "    ensemble_predictions += model_predictions\n",
        "\n",
        "  print(\"done looping\")\n",
        "  # Take the majority vote and selective classification vote\n",
        "  ensemble_predictions = np.argmax(ensemble_predictions, axis=1)\n",
        "  standard_ensemble_predictions = np.argmax(standard_ensemble_predictions, axis=1)\n",
        "\n",
        "  rate_same = accuracy_score(ensemble_predictions, standard_ensemble_predictions)\n",
        "\n",
        "  # Calculate accuracy of the ensemble\n",
        "  ensemble_predictions = np.where(ensemble_predictions == 10, standard_ensemble_predictions, ensemble_predictions)\n",
        "  selective_classification_ensemble_accuracy = accuracy_score(true_labels, ensemble_predictions)\n",
        "\n",
        "  return selective_classification_ensemble_accuracy, individual_accuracies, rate_same"
      ],
      "metadata": {
        "id": "eYpOx08F4Z0r"
      },
      "execution_count": null,
      "outputs": []
    },
    {
      "cell_type": "markdown",
      "source": [
        "##### Unused?"
      ],
      "metadata": {
        "id": "WrQAHj5naSAN"
      }
    },
    {
      "cell_type": "code",
      "source": [
        "def selectiveClassificationPredictionsManyThresholds(ensemble_and_checkpoints, x_test, y_test, thresholds, first_slice_considered=0):\n",
        "  \"\"\"\n",
        "  Test the accuracies of an ensemble of models.\n",
        "  One ensembling method is simply the majority vote, and another is a weighted\n",
        "  majority vote.\n",
        "\n",
        "  Parameters:\n",
        "  - ensemble (list): A list of individual models to form the ensemble.\n",
        "  - x_test (numpy.ndarray): Testing data.\n",
        "  - y_test (numpy.ndarray): True labels for the testing data.\n",
        "\n",
        "  Returns:\n",
        "  - majority_ensemble_accuracy (float): Accuracy of the ensemble based on majority voting.\n",
        "  - weighted_ensemble_accuracy (float): Accuracy of the ensemble based on weighted voting.\n",
        "  - individual_accuracies (list): List of accuracies for each individual model in the ensemble.\n",
        "  \"\"\"\n",
        "\n",
        "  N_test, D = y_test.shape\n",
        "  model = createModel()\n",
        "\n",
        "  tens = np.ones(N_test) * 10\n",
        "  # Convert true labels to indices\n",
        "  true_labels = np.argmax(y_test, axis=1)\n",
        "\n",
        "  # Initialize array for storing predictions and accuracies\n",
        "  selective_classification_predictions = np.zeros_like(y_test)\n",
        "  standard_ensemble_predictions = np.zeros_like(y_test)\n",
        "\n",
        "  ensemble_predictions = []\n",
        "  individual_accuracies = []\n",
        "  shard_model_predictions = []\n",
        "\n",
        "  selective_classification_ensemble_accuracy = []\n",
        "  rate_same = []\n",
        "\n",
        "  # Things that depend on thresholds\n",
        "  for i in range(len(thresholds)):\n",
        "    print(\"threshold: \", thresholds[i])\n",
        "\n",
        "    ensemble_predictions.append(np.zeros((N_test, 11)))\n",
        "    individual_accuracies.append([]) # Accuracies for the individual models within the ensemble\n",
        "\n",
        "  num_shards = len(ensemble_and_checkpoints)\n",
        "  num_slices = len(ensemble_and_checkpoints[0])\n",
        "\n",
        "  for shard_index in range(num_shards):\n",
        "    # print(\"Shard index: \", shard_index)\n",
        "    same_prediction = np.zeros(N_test)\n",
        "    model.set_weights(ensemble_and_checkpoints[shard_index][-1])\n",
        "    most_recent_model_predictions = model.predict(x_test, verbose=0)\n",
        "    most_recent_model_labels = np.argmax(most_recent_model_predictions, axis=1) # now labels\n",
        "\n",
        "    standard_ensemble_predictions += most_recent_model_predictions # Regular predictions\n",
        "\n",
        "    for slice_checkpoint_index in range(first_slice_considered, num_slices - 1):\n",
        "      # print(\"slice_checkpoint_index: \", slice_checkpoint_index)\n",
        "      model.set_weights(ensemble_and_checkpoints[shard_index][slice_checkpoint_index])\n",
        "      slice_predictions = model.predict(x_test, verbose=0)\n",
        "      slice_labels = np.argmax(slice_predictions, axis=1) # now labels\n",
        "      same_prediction += (slice_labels==most_recent_model_labels)\n",
        "\n",
        "    for i in range(len(thresholds)):\n",
        "      # print(\"threshold: \", thresholds[i])\n",
        "      model_predictions = np.where(same_prediction >= thresholds[i], most_recent_model_labels, tens)\n",
        "      individual_accuracies[i].append(accuracy_score(true_labels, model_predictions))\n",
        "\n",
        "      # Update the ensemble predictions\n",
        "      model_predictions = to_categorical(model_predictions, 11)\n",
        "      ensemble_predictions[i] += model_predictions\n",
        "  # print(\"Shard loop done\")\n",
        "\n",
        "  standard_ensemble_predictions = np.argmax(standard_ensemble_predictions, axis=1)\n",
        "\n",
        "  # Take the majority vote and selective classification vote\n",
        "  for i in range(len(thresholds)):\n",
        "    # print(\"threshold: \", thresholds[i])\n",
        "    ensemble_predictions[i] = np.argmax(ensemble_predictions[i], axis=1)\n",
        "    rate_same.append(accuracy_score(ensemble_predictions[i], standard_ensemble_predictions))\n",
        "    ensemble_predictions[i] = np.where(ensemble_predictions[i] == 10, standard_ensemble_predictions, ensemble_predictions[i])\n",
        "\n",
        "    # Calculate accuracy of the ensemble\n",
        "    selective_classification_ensemble_accuracy.append(accuracy_score(true_labels, ensemble_predictions[i]))\n",
        "\n",
        "  return selective_classification_ensemble_accuracy, individual_accuracies, rate_same"
      ],
      "metadata": {
        "id": "ohxJQwcXSigD"
      },
      "execution_count": null,
      "outputs": []
    },
    {
      "cell_type": "markdown",
      "source": [
        "### Unlearning Process\n",
        "Assumes createEnsemble2 is used"
      ],
      "metadata": {
        "id": "76SIisuh6gSD"
      }
    },
    {
      "cell_type": "code",
      "source": [
        "def unlearnData2(num_remove, shard_num, slice_num, ensemble, shard_slice_weights, num_epochs=1, batch_size=64):\n",
        "  \"\"\"\n",
        "  Unlearn a specified number of data points from a specific shard and slice in an ensemble of shard models.\n",
        "\n",
        "  Parameters:\n",
        "  - num_remove (int): Number of data points to be removed from the specified shard and slice.\n",
        "  - shard_num (int): Index of the shard within the ensemble to unlearn from.\n",
        "  - slice_num (int): Index of the slice within the shard to unlearn from.\n",
        "  - ensemble (list): List of models representing the ensemble.\n",
        "  - shard_slice_weights (list): Weight checkpoints of each slice in each shard.\n",
        "  - epochs (int, optional): Number of training epochs when retraining. Default is 1.\n",
        "  - batch_size (int, optional): Batch size for training. Default is 64.\n",
        "\n",
        "  Returns:\n",
        "  - duration (float): Duration of the unlearning process in seconds.\n",
        "  - ensemble (list): Updated ensemble after unlearning.\n",
        "  - shard_slice_weights (list): Updated weight checkpoints of each slice in each shard.\n",
        "  \"\"\"\n",
        "\n",
        "  # Record the start time\n",
        "  start_time = time.time()\n",
        "\n",
        "  num_shards = len(ensemble)\n",
        "  num_slices = len(shard_slice_weights[0])\n",
        "\n",
        "  shard_size = len(x_train) // num_shards\n",
        "  slice_size = shard_size // num_slices\n",
        "\n",
        "  # Identify the relevant model and reset weights\n",
        "  model = ensemble[shard_num]\n",
        "  model.set_weights(shard_slice_weights[shard_num][slice_num])\n",
        "\n",
        "  # Set indices for the relevant shard/subset of data\n",
        "  start_index = shard_num * shard_size\n",
        "  end_index = (shard_num + 1) * shard_size if shard_num < num_shards - 1 else len(x_train)\n",
        "\n",
        "  # Identify the relevant shard/subset of data\n",
        "  x_subset = x_train[start_index:end_index]\n",
        "  y_subset = y_train[start_index:end_index]\n",
        "\n",
        "  # Set indices for the relevant slice/sub-subset of data\n",
        "  slice_start = slice_num * slice_size\n",
        "  slice_end = (slice_num + 1) * slice_size if slice_num < num_slices - 1 else shard_size\n",
        "\n",
        "  # Identify the relevant slice/sub-subset of data\n",
        "  x_slice = x_subset[slice_start:slice_end]\n",
        "  y_slice = y_subset[slice_start:slice_end]\n",
        "\n",
        "  # Relearn the current shard without the num_remove points\n",
        "  model.fit(x_slice[num_remove:], y_slice[num_remove:], epochs=num_epochs, batch_size=batch_size, verbose=0)\n",
        "  shard_slice_weights[shard_num][slice_num] = model.get_weights()\n",
        "\n",
        "  # Relearn the subsequent slices, if any\n",
        "  if slice_num + 1 < num_slices:\n",
        "    for j in range(slice_num + 1, num_slices):\n",
        "      for epoch in range(num_epochs):\n",
        "        slice_start = j * slice_size\n",
        "        slice_end = (j + 1) * slice_size if j < num_slices - 1 else shard_size\n",
        "\n",
        "        x_slice = x_subset[slice_start:slice_end]\n",
        "        y_slice = y_subset[slice_start:slice_end]\n",
        "\n",
        "        model.fit(x_slice, y_slice, epochs=1, batch_size=batch_size, verbose=0)\n",
        "\n",
        "      shard_slice_weights[shard_num][j] = model.get_weights()\n",
        "\n",
        "  ensemble[shard_num] = model\n",
        "\n",
        "  # Record the end time\n",
        "  end_time = time.time()\n",
        "\n",
        "  # Calculate the retraining time\n",
        "  duration = end_time - start_time\n",
        "\n",
        "  return duration, ensemble, shard_slice_weights"
      ],
      "metadata": {
        "id": "HKw4oGuf6zuP"
      },
      "execution_count": null,
      "outputs": []
    },
    {
      "cell_type": "code",
      "source": [
        "def unlearnDataSISA(num_remove, shard_num, slice_num, ensemble, shard_slice_weights, num_epochs=1, batch_size=64):\n",
        "  \"\"\"\n",
        "  Unlearn a specified number of data points from a specific shard and slice in an ensemble of shard models.\n",
        "\n",
        "  Parameters:\n",
        "  - num_remove (int): Number of data points to be removed from the specified shard and slice.\n",
        "  - shard_num (int): Index of the shard within the ensemble to unlearn from.\n",
        "  - slice_num (int): Index of the slice within the shard to unlearn from.\n",
        "  - ensemble (list): List of models representing the ensemble.\n",
        "  - shard_slice_weights (list): Weight checkpoints of each slice in each shard.\n",
        "  - epochs (int, optional): Number of training epochs when retraining. Default is 1.\n",
        "  - batch_size (int, optional): Batch size for training. Default is 64.\n",
        "\n",
        "  Returns:\n",
        "  - duration (float): Duration of the unlearning process in seconds.\n",
        "  - ensemble (list): Updated ensemble after unlearning.\n",
        "  - shard_slice_weights (list): Updated weight checkpoints of each slice in each shard.\n",
        "  \"\"\"\n",
        "\n",
        "  # Record the start time\n",
        "  start_time = time.time()\n",
        "\n",
        "  num_shards = len(ensemble)\n",
        "  num_slices = len(shard_slice_weights[0])\n",
        "\n",
        "  shard_size = len(x_train) // num_shards\n",
        "  slice_size = shard_size // num_slices\n",
        "\n",
        "  # Identify the relevant model and reset weights\n",
        "  model = ensemble[shard_num]\n",
        "  model.set_weights(shard_slice_weights[shard_num][slice_num])\n",
        "\n",
        "  # Set indices for the relevant shard/subset of data\n",
        "  start_index = shard_num * shard_size\n",
        "  end_index = (shard_num + 1) * shard_size if shard_num < num_shards - 1 else len(x_train)\n",
        "\n",
        "  # Identify the relevant shard/subset of data\n",
        "  x_subset = x_train[start_index:end_index]\n",
        "  y_subset = y_train[start_index:end_index]\n",
        "\n",
        "  # Set indices for the relevant slice/sub-subset of data\n",
        "  slice_start = slice_num * slice_size\n",
        "  slice_end = shard_size\n",
        "\n",
        "  # Identify the relevant slice/sub-subset of data\n",
        "  x_slice = x_subset[slice_start:slice_end]\n",
        "  y_slice = y_subset[slice_start:slice_end]\n",
        "\n",
        "  # Relearn the current shard without the num_remove points\n",
        "  model.fit(x_slice[num_remove:], y_slice[num_remove:], epochs=num_epochs, batch_size=batch_size, verbose=0)\n",
        "  shard_slice_weights[shard_num][slice_num] = model.get_weights()\n",
        "\n",
        "  # Relearn the subsequent slices, if any\n",
        "  if slice_num + 1 < num_slices:\n",
        "    for j in range(slice_num + 1, num_slices):\n",
        "      for epoch in range(num_epochs):\n",
        "        slice_start = j * slice_size\n",
        "        slice_end = shard_size\n",
        "\n",
        "        x_slice = x_subset[slice_start:slice_end]\n",
        "        y_slice = y_subset[slice_start:slice_end]\n",
        "\n",
        "        model.fit(x_slice, y_slice, epochs=1, batch_size=batch_size, verbose=0)\n",
        "\n",
        "      shard_slice_weights[shard_num][j] = model.get_weights()\n",
        "\n",
        "  ensemble[shard_num] = model\n",
        "\n",
        "  # Record the end time\n",
        "  end_time = time.time()\n",
        "\n",
        "  # Calculate the retraining time\n",
        "  duration = end_time - start_time\n",
        "\n",
        "  return duration, ensemble, shard_slice_weights"
      ],
      "metadata": {
        "id": "H7f9jA1Nscte"
      },
      "execution_count": null,
      "outputs": []
    },
    {
      "cell_type": "markdown",
      "source": [
        "### Testing and Results"
      ],
      "metadata": {
        "id": "U96mzVUe6til"
      }
    },
    {
      "cell_type": "code",
      "source": [
        "ensemble, shard_slice_weights = createEnsembleSISA(2, 5, createModel, 5)"
      ],
      "metadata": {
        "colab": {
          "base_uri": "https://localhost:8080/",
          "height": 335
        },
        "id": "KQIPc2dOqp28",
        "outputId": "fa033038-1894-40f1-91df-b053e0e86791"
      },
      "execution_count": null,
      "outputs": [
        {
          "output_type": "error",
          "ename": "KeyboardInterrupt",
          "evalue": "ignored",
          "traceback": [
            "\u001b[0;31m---------------------------------------------------------------------------\u001b[0m",
            "\u001b[0;31mKeyboardInterrupt\u001b[0m                         Traceback (most recent call last)",
            "\u001b[0;32m<ipython-input-18-fdccf7b38d91>\u001b[0m in \u001b[0;36m<cell line: 1>\u001b[0;34m()\u001b[0m\n\u001b[0;32m----> 1\u001b[0;31m \u001b[0mensemble\u001b[0m\u001b[0;34m,\u001b[0m \u001b[0mshard_slice_weights\u001b[0m \u001b[0;34m=\u001b[0m \u001b[0mcreateEnsembleSISA\u001b[0m\u001b[0;34m(\u001b[0m\u001b[0;36m2\u001b[0m\u001b[0;34m,\u001b[0m \u001b[0;36m5\u001b[0m\u001b[0;34m,\u001b[0m \u001b[0mcreateModel\u001b[0m\u001b[0;34m,\u001b[0m \u001b[0;36m5\u001b[0m\u001b[0;34m)\u001b[0m\u001b[0;34m\u001b[0m\u001b[0;34m\u001b[0m\u001b[0m\n\u001b[0m",
            "\u001b[0;32m<ipython-input-7-d1b2aa7df745>\u001b[0m in \u001b[0;36mcreateEnsembleSISA\u001b[0;34m(num_shards, num_slices, model_fn, num_epochs, batch_size)\u001b[0m\n\u001b[1;32m     51\u001b[0m       \u001b[0my_slice\u001b[0m \u001b[0;34m=\u001b[0m \u001b[0my_subset\u001b[0m\u001b[0;34m[\u001b[0m\u001b[0mslice_start\u001b[0m\u001b[0;34m:\u001b[0m\u001b[0mslice_end\u001b[0m\u001b[0;34m]\u001b[0m\u001b[0;34m\u001b[0m\u001b[0;34m\u001b[0m\u001b[0m\n\u001b[1;32m     52\u001b[0m \u001b[0;34m\u001b[0m\u001b[0m\n\u001b[0;32m---> 53\u001b[0;31m       \u001b[0mmodel\u001b[0m\u001b[0;34m.\u001b[0m\u001b[0mfit\u001b[0m\u001b[0;34m(\u001b[0m\u001b[0mx_slice\u001b[0m\u001b[0;34m,\u001b[0m \u001b[0my_slice\u001b[0m\u001b[0;34m,\u001b[0m \u001b[0mepochs\u001b[0m\u001b[0;34m=\u001b[0m\u001b[0;34m(\u001b[0m\u001b[0mnum_epochs\u001b[0m \u001b[0;34m//\u001b[0m \u001b[0mnum_slices\u001b[0m\u001b[0;34m)\u001b[0m\u001b[0;34m,\u001b[0m \u001b[0mbatch_size\u001b[0m\u001b[0;34m=\u001b[0m\u001b[0mbatch_size\u001b[0m\u001b[0;34m,\u001b[0m \u001b[0mverbose\u001b[0m\u001b[0;34m=\u001b[0m\u001b[0;36m0\u001b[0m\u001b[0;34m)\u001b[0m\u001b[0;34m\u001b[0m\u001b[0;34m\u001b[0m\u001b[0m\n\u001b[0m\u001b[1;32m     54\u001b[0m \u001b[0;34m\u001b[0m\u001b[0m\n\u001b[1;32m     55\u001b[0m       \u001b[0mslice_weights\u001b[0m\u001b[0;34m.\u001b[0m\u001b[0mappend\u001b[0m\u001b[0;34m(\u001b[0m\u001b[0mmodel\u001b[0m\u001b[0;34m.\u001b[0m\u001b[0mget_weights\u001b[0m\u001b[0;34m(\u001b[0m\u001b[0;34m)\u001b[0m\u001b[0;34m)\u001b[0m\u001b[0;34m\u001b[0m\u001b[0;34m\u001b[0m\u001b[0m\n",
            "\u001b[0;32m/usr/local/lib/python3.10/dist-packages/keras/src/utils/traceback_utils.py\u001b[0m in \u001b[0;36merror_handler\u001b[0;34m(*args, **kwargs)\u001b[0m\n\u001b[1;32m     63\u001b[0m         \u001b[0mfiltered_tb\u001b[0m \u001b[0;34m=\u001b[0m \u001b[0;32mNone\u001b[0m\u001b[0;34m\u001b[0m\u001b[0;34m\u001b[0m\u001b[0m\n\u001b[1;32m     64\u001b[0m         \u001b[0;32mtry\u001b[0m\u001b[0;34m:\u001b[0m\u001b[0;34m\u001b[0m\u001b[0;34m\u001b[0m\u001b[0m\n\u001b[0;32m---> 65\u001b[0;31m             \u001b[0;32mreturn\u001b[0m \u001b[0mfn\u001b[0m\u001b[0;34m(\u001b[0m\u001b[0;34m*\u001b[0m\u001b[0margs\u001b[0m\u001b[0;34m,\u001b[0m \u001b[0;34m**\u001b[0m\u001b[0mkwargs\u001b[0m\u001b[0;34m)\u001b[0m\u001b[0;34m\u001b[0m\u001b[0;34m\u001b[0m\u001b[0m\n\u001b[0m\u001b[1;32m     66\u001b[0m         \u001b[0;32mexcept\u001b[0m \u001b[0mException\u001b[0m \u001b[0;32mas\u001b[0m \u001b[0me\u001b[0m\u001b[0;34m:\u001b[0m\u001b[0;34m\u001b[0m\u001b[0;34m\u001b[0m\u001b[0m\n\u001b[1;32m     67\u001b[0m             \u001b[0mfiltered_tb\u001b[0m \u001b[0;34m=\u001b[0m \u001b[0m_process_traceback_frames\u001b[0m\u001b[0;34m(\u001b[0m\u001b[0me\u001b[0m\u001b[0;34m.\u001b[0m\u001b[0m__traceback__\u001b[0m\u001b[0;34m)\u001b[0m\u001b[0;34m\u001b[0m\u001b[0;34m\u001b[0m\u001b[0m\n",
            "\u001b[0;32m/usr/local/lib/python3.10/dist-packages/keras/src/engine/training.py\u001b[0m in \u001b[0;36mfit\u001b[0;34m(self, x, y, batch_size, epochs, verbose, callbacks, validation_split, validation_data, shuffle, class_weight, sample_weight, initial_epoch, steps_per_epoch, validation_steps, validation_batch_size, validation_freq, max_queue_size, workers, use_multiprocessing)\u001b[0m\n\u001b[1;32m   1781\u001b[0m                         ):\n\u001b[1;32m   1782\u001b[0m                             \u001b[0mcallbacks\u001b[0m\u001b[0;34m.\u001b[0m\u001b[0mon_train_batch_begin\u001b[0m\u001b[0;34m(\u001b[0m\u001b[0mstep\u001b[0m\u001b[0;34m)\u001b[0m\u001b[0;34m\u001b[0m\u001b[0;34m\u001b[0m\u001b[0m\n\u001b[0;32m-> 1783\u001b[0;31m                             \u001b[0mtmp_logs\u001b[0m \u001b[0;34m=\u001b[0m \u001b[0mself\u001b[0m\u001b[0;34m.\u001b[0m\u001b[0mtrain_function\u001b[0m\u001b[0;34m(\u001b[0m\u001b[0miterator\u001b[0m\u001b[0;34m)\u001b[0m\u001b[0;34m\u001b[0m\u001b[0;34m\u001b[0m\u001b[0m\n\u001b[0m\u001b[1;32m   1784\u001b[0m                             \u001b[0;32mif\u001b[0m \u001b[0mdata_handler\u001b[0m\u001b[0;34m.\u001b[0m\u001b[0mshould_sync\u001b[0m\u001b[0;34m:\u001b[0m\u001b[0;34m\u001b[0m\u001b[0;34m\u001b[0m\u001b[0m\n\u001b[1;32m   1785\u001b[0m                                 \u001b[0mcontext\u001b[0m\u001b[0;34m.\u001b[0m\u001b[0masync_wait\u001b[0m\u001b[0;34m(\u001b[0m\u001b[0;34m)\u001b[0m\u001b[0;34m\u001b[0m\u001b[0;34m\u001b[0m\u001b[0m\n",
            "\u001b[0;32m/usr/local/lib/python3.10/dist-packages/tensorflow/python/util/traceback_utils.py\u001b[0m in \u001b[0;36merror_handler\u001b[0;34m(*args, **kwargs)\u001b[0m\n\u001b[1;32m    148\u001b[0m     \u001b[0mfiltered_tb\u001b[0m \u001b[0;34m=\u001b[0m \u001b[0;32mNone\u001b[0m\u001b[0;34m\u001b[0m\u001b[0;34m\u001b[0m\u001b[0m\n\u001b[1;32m    149\u001b[0m     \u001b[0;32mtry\u001b[0m\u001b[0;34m:\u001b[0m\u001b[0;34m\u001b[0m\u001b[0;34m\u001b[0m\u001b[0m\n\u001b[0;32m--> 150\u001b[0;31m       \u001b[0;32mreturn\u001b[0m \u001b[0mfn\u001b[0m\u001b[0;34m(\u001b[0m\u001b[0;34m*\u001b[0m\u001b[0margs\u001b[0m\u001b[0;34m,\u001b[0m \u001b[0;34m**\u001b[0m\u001b[0mkwargs\u001b[0m\u001b[0;34m)\u001b[0m\u001b[0;34m\u001b[0m\u001b[0;34m\u001b[0m\u001b[0m\n\u001b[0m\u001b[1;32m    151\u001b[0m     \u001b[0;32mexcept\u001b[0m \u001b[0mException\u001b[0m \u001b[0;32mas\u001b[0m \u001b[0me\u001b[0m\u001b[0;34m:\u001b[0m\u001b[0;34m\u001b[0m\u001b[0;34m\u001b[0m\u001b[0m\n\u001b[1;32m    152\u001b[0m       \u001b[0mfiltered_tb\u001b[0m \u001b[0;34m=\u001b[0m \u001b[0m_process_traceback_frames\u001b[0m\u001b[0;34m(\u001b[0m\u001b[0me\u001b[0m\u001b[0;34m.\u001b[0m\u001b[0m__traceback__\u001b[0m\u001b[0;34m)\u001b[0m\u001b[0;34m\u001b[0m\u001b[0;34m\u001b[0m\u001b[0m\n",
            "\u001b[0;32m/usr/local/lib/python3.10/dist-packages/tensorflow/python/eager/polymorphic_function/polymorphic_function.py\u001b[0m in \u001b[0;36m__call__\u001b[0;34m(self, *args, **kwds)\u001b[0m\n\u001b[1;32m    829\u001b[0m \u001b[0;34m\u001b[0m\u001b[0m\n\u001b[1;32m    830\u001b[0m       \u001b[0;32mwith\u001b[0m \u001b[0mOptionalXlaContext\u001b[0m\u001b[0;34m(\u001b[0m\u001b[0mself\u001b[0m\u001b[0;34m.\u001b[0m\u001b[0m_jit_compile\u001b[0m\u001b[0;34m)\u001b[0m\u001b[0;34m:\u001b[0m\u001b[0;34m\u001b[0m\u001b[0;34m\u001b[0m\u001b[0m\n\u001b[0;32m--> 831\u001b[0;31m         \u001b[0mresult\u001b[0m \u001b[0;34m=\u001b[0m \u001b[0mself\u001b[0m\u001b[0;34m.\u001b[0m\u001b[0m_call\u001b[0m\u001b[0;34m(\u001b[0m\u001b[0;34m*\u001b[0m\u001b[0margs\u001b[0m\u001b[0;34m,\u001b[0m \u001b[0;34m**\u001b[0m\u001b[0mkwds\u001b[0m\u001b[0;34m)\u001b[0m\u001b[0;34m\u001b[0m\u001b[0;34m\u001b[0m\u001b[0m\n\u001b[0m\u001b[1;32m    832\u001b[0m \u001b[0;34m\u001b[0m\u001b[0m\n\u001b[1;32m    833\u001b[0m       \u001b[0mnew_tracing_count\u001b[0m \u001b[0;34m=\u001b[0m \u001b[0mself\u001b[0m\u001b[0;34m.\u001b[0m\u001b[0mexperimental_get_tracing_count\u001b[0m\u001b[0;34m(\u001b[0m\u001b[0;34m)\u001b[0m\u001b[0;34m\u001b[0m\u001b[0;34m\u001b[0m\u001b[0m\n",
            "\u001b[0;32m/usr/local/lib/python3.10/dist-packages/tensorflow/python/eager/polymorphic_function/polymorphic_function.py\u001b[0m in \u001b[0;36m_call\u001b[0;34m(self, *args, **kwds)\u001b[0m\n\u001b[1;32m    902\u001b[0m         \u001b[0;31m# Lifting succeeded, so variables are initialized and we can run the\u001b[0m\u001b[0;34m\u001b[0m\u001b[0;34m\u001b[0m\u001b[0m\n\u001b[1;32m    903\u001b[0m         \u001b[0;31m# no_variable_creation function.\u001b[0m\u001b[0;34m\u001b[0m\u001b[0;34m\u001b[0m\u001b[0m\n\u001b[0;32m--> 904\u001b[0;31m         return tracing_compilation.call_function(\n\u001b[0m\u001b[1;32m    905\u001b[0m             \u001b[0margs\u001b[0m\u001b[0;34m,\u001b[0m \u001b[0mkwds\u001b[0m\u001b[0;34m,\u001b[0m \u001b[0mself\u001b[0m\u001b[0;34m.\u001b[0m\u001b[0m_no_variable_creation_config\u001b[0m\u001b[0;34m\u001b[0m\u001b[0;34m\u001b[0m\u001b[0m\n\u001b[1;32m    906\u001b[0m         )\n",
            "\u001b[0;32m/usr/local/lib/python3.10/dist-packages/tensorflow/python/eager/polymorphic_function/tracing_compilation.py\u001b[0m in \u001b[0;36mcall_function\u001b[0;34m(args, kwargs, tracing_options)\u001b[0m\n\u001b[1;32m    137\u001b[0m   \u001b[0mbound_args\u001b[0m \u001b[0;34m=\u001b[0m \u001b[0mfunction\u001b[0m\u001b[0;34m.\u001b[0m\u001b[0mfunction_type\u001b[0m\u001b[0;34m.\u001b[0m\u001b[0mbind\u001b[0m\u001b[0;34m(\u001b[0m\u001b[0;34m*\u001b[0m\u001b[0margs\u001b[0m\u001b[0;34m,\u001b[0m \u001b[0;34m**\u001b[0m\u001b[0mkwargs\u001b[0m\u001b[0;34m)\u001b[0m\u001b[0;34m\u001b[0m\u001b[0;34m\u001b[0m\u001b[0m\n\u001b[1;32m    138\u001b[0m   \u001b[0mflat_inputs\u001b[0m \u001b[0;34m=\u001b[0m \u001b[0mfunction\u001b[0m\u001b[0;34m.\u001b[0m\u001b[0mfunction_type\u001b[0m\u001b[0;34m.\u001b[0m\u001b[0munpack_inputs\u001b[0m\u001b[0;34m(\u001b[0m\u001b[0mbound_args\u001b[0m\u001b[0;34m)\u001b[0m\u001b[0;34m\u001b[0m\u001b[0;34m\u001b[0m\u001b[0m\n\u001b[0;32m--> 139\u001b[0;31m   return function._call_flat(  # pylint: disable=protected-access\n\u001b[0m\u001b[1;32m    140\u001b[0m       \u001b[0mflat_inputs\u001b[0m\u001b[0;34m,\u001b[0m \u001b[0mcaptured_inputs\u001b[0m\u001b[0;34m=\u001b[0m\u001b[0mfunction\u001b[0m\u001b[0;34m.\u001b[0m\u001b[0mcaptured_inputs\u001b[0m\u001b[0;34m\u001b[0m\u001b[0;34m\u001b[0m\u001b[0m\n\u001b[1;32m    141\u001b[0m   )\n",
            "\u001b[0;32m/usr/local/lib/python3.10/dist-packages/tensorflow/python/eager/polymorphic_function/concrete_function.py\u001b[0m in \u001b[0;36m_call_flat\u001b[0;34m(self, tensor_inputs, captured_inputs)\u001b[0m\n\u001b[1;32m   1262\u001b[0m         and executing_eagerly):\n\u001b[1;32m   1263\u001b[0m       \u001b[0;31m# No tape is watching; skip to running the function.\u001b[0m\u001b[0;34m\u001b[0m\u001b[0;34m\u001b[0m\u001b[0m\n\u001b[0;32m-> 1264\u001b[0;31m       \u001b[0;32mreturn\u001b[0m \u001b[0mself\u001b[0m\u001b[0;34m.\u001b[0m\u001b[0m_inference_function\u001b[0m\u001b[0;34m.\u001b[0m\u001b[0mflat_call\u001b[0m\u001b[0;34m(\u001b[0m\u001b[0margs\u001b[0m\u001b[0;34m)\u001b[0m\u001b[0;34m\u001b[0m\u001b[0;34m\u001b[0m\u001b[0m\n\u001b[0m\u001b[1;32m   1265\u001b[0m     forward_backward = self._select_forward_and_backward_functions(\n\u001b[1;32m   1266\u001b[0m         \u001b[0margs\u001b[0m\u001b[0;34m,\u001b[0m\u001b[0;34m\u001b[0m\u001b[0;34m\u001b[0m\u001b[0m\n",
            "\u001b[0;32m/usr/local/lib/python3.10/dist-packages/tensorflow/python/eager/polymorphic_function/atomic_function.py\u001b[0m in \u001b[0;36mflat_call\u001b[0;34m(self, args)\u001b[0m\n\u001b[1;32m    215\u001b[0m   \u001b[0;32mdef\u001b[0m \u001b[0mflat_call\u001b[0m\u001b[0;34m(\u001b[0m\u001b[0mself\u001b[0m\u001b[0;34m,\u001b[0m \u001b[0margs\u001b[0m\u001b[0;34m:\u001b[0m \u001b[0mSequence\u001b[0m\u001b[0;34m[\u001b[0m\u001b[0mcore\u001b[0m\u001b[0;34m.\u001b[0m\u001b[0mTensor\u001b[0m\u001b[0;34m]\u001b[0m\u001b[0;34m)\u001b[0m \u001b[0;34m->\u001b[0m \u001b[0mAny\u001b[0m\u001b[0;34m:\u001b[0m\u001b[0;34m\u001b[0m\u001b[0;34m\u001b[0m\u001b[0m\n\u001b[1;32m    216\u001b[0m     \u001b[0;34m\"\"\"Calls with tensor inputs and returns the structured output.\"\"\"\u001b[0m\u001b[0;34m\u001b[0m\u001b[0;34m\u001b[0m\u001b[0m\n\u001b[0;32m--> 217\u001b[0;31m     \u001b[0mflat_outputs\u001b[0m \u001b[0;34m=\u001b[0m \u001b[0mself\u001b[0m\u001b[0;34m(\u001b[0m\u001b[0;34m*\u001b[0m\u001b[0margs\u001b[0m\u001b[0;34m)\u001b[0m\u001b[0;34m\u001b[0m\u001b[0;34m\u001b[0m\u001b[0m\n\u001b[0m\u001b[1;32m    218\u001b[0m     \u001b[0;32mreturn\u001b[0m \u001b[0mself\u001b[0m\u001b[0;34m.\u001b[0m\u001b[0mfunction_type\u001b[0m\u001b[0;34m.\u001b[0m\u001b[0mpack_output\u001b[0m\u001b[0;34m(\u001b[0m\u001b[0mflat_outputs\u001b[0m\u001b[0;34m)\u001b[0m\u001b[0;34m\u001b[0m\u001b[0;34m\u001b[0m\u001b[0m\n\u001b[1;32m    219\u001b[0m \u001b[0;34m\u001b[0m\u001b[0m\n",
            "\u001b[0;32m/usr/local/lib/python3.10/dist-packages/tensorflow/python/eager/polymorphic_function/atomic_function.py\u001b[0m in \u001b[0;36m__call__\u001b[0;34m(self, *args)\u001b[0m\n\u001b[1;32m    250\u001b[0m         \u001b[0;32mwith\u001b[0m \u001b[0mrecord\u001b[0m\u001b[0;34m.\u001b[0m\u001b[0mstop_recording\u001b[0m\u001b[0;34m(\u001b[0m\u001b[0;34m)\u001b[0m\u001b[0;34m:\u001b[0m\u001b[0;34m\u001b[0m\u001b[0;34m\u001b[0m\u001b[0m\n\u001b[1;32m    251\u001b[0m           \u001b[0;32mif\u001b[0m \u001b[0mself\u001b[0m\u001b[0;34m.\u001b[0m\u001b[0m_bound_context\u001b[0m\u001b[0;34m.\u001b[0m\u001b[0mexecuting_eagerly\u001b[0m\u001b[0;34m(\u001b[0m\u001b[0;34m)\u001b[0m\u001b[0;34m:\u001b[0m\u001b[0;34m\u001b[0m\u001b[0;34m\u001b[0m\u001b[0m\n\u001b[0;32m--> 252\u001b[0;31m             outputs = self._bound_context.call_function(\n\u001b[0m\u001b[1;32m    253\u001b[0m                 \u001b[0mself\u001b[0m\u001b[0;34m.\u001b[0m\u001b[0mname\u001b[0m\u001b[0;34m,\u001b[0m\u001b[0;34m\u001b[0m\u001b[0;34m\u001b[0m\u001b[0m\n\u001b[1;32m    254\u001b[0m                 \u001b[0mlist\u001b[0m\u001b[0;34m(\u001b[0m\u001b[0margs\u001b[0m\u001b[0;34m)\u001b[0m\u001b[0;34m,\u001b[0m\u001b[0;34m\u001b[0m\u001b[0;34m\u001b[0m\u001b[0m\n",
            "\u001b[0;32m/usr/local/lib/python3.10/dist-packages/tensorflow/python/eager/context.py\u001b[0m in \u001b[0;36mcall_function\u001b[0;34m(self, name, tensor_inputs, num_outputs)\u001b[0m\n\u001b[1;32m   1477\u001b[0m     \u001b[0mcancellation_context\u001b[0m \u001b[0;34m=\u001b[0m \u001b[0mcancellation\u001b[0m\u001b[0;34m.\u001b[0m\u001b[0mcontext\u001b[0m\u001b[0;34m(\u001b[0m\u001b[0;34m)\u001b[0m\u001b[0;34m\u001b[0m\u001b[0;34m\u001b[0m\u001b[0m\n\u001b[1;32m   1478\u001b[0m     \u001b[0;32mif\u001b[0m \u001b[0mcancellation_context\u001b[0m \u001b[0;32mis\u001b[0m \u001b[0;32mNone\u001b[0m\u001b[0;34m:\u001b[0m\u001b[0;34m\u001b[0m\u001b[0;34m\u001b[0m\u001b[0m\n\u001b[0;32m-> 1479\u001b[0;31m       outputs = execute.execute(\n\u001b[0m\u001b[1;32m   1480\u001b[0m           \u001b[0mname\u001b[0m\u001b[0;34m.\u001b[0m\u001b[0mdecode\u001b[0m\u001b[0;34m(\u001b[0m\u001b[0;34m\"utf-8\"\u001b[0m\u001b[0;34m)\u001b[0m\u001b[0;34m,\u001b[0m\u001b[0;34m\u001b[0m\u001b[0;34m\u001b[0m\u001b[0m\n\u001b[1;32m   1481\u001b[0m           \u001b[0mnum_outputs\u001b[0m\u001b[0;34m=\u001b[0m\u001b[0mnum_outputs\u001b[0m\u001b[0;34m,\u001b[0m\u001b[0;34m\u001b[0m\u001b[0;34m\u001b[0m\u001b[0m\n",
            "\u001b[0;32m/usr/local/lib/python3.10/dist-packages/tensorflow/python/eager/execute.py\u001b[0m in \u001b[0;36mquick_execute\u001b[0;34m(op_name, num_outputs, inputs, attrs, ctx, name)\u001b[0m\n\u001b[1;32m     58\u001b[0m         \u001b[0;32mfor\u001b[0m \u001b[0mt\u001b[0m \u001b[0;32min\u001b[0m \u001b[0minputs\u001b[0m\u001b[0;34m\u001b[0m\u001b[0;34m\u001b[0m\u001b[0m\n\u001b[1;32m     59\u001b[0m     ]\n\u001b[0;32m---> 60\u001b[0;31m     tensors = pywrap_tfe.TFE_Py_Execute(ctx._handle, device_name, op_name,\n\u001b[0m\u001b[1;32m     61\u001b[0m                                         inputs, attrs, num_outputs)\n\u001b[1;32m     62\u001b[0m   \u001b[0;32mexcept\u001b[0m \u001b[0mcore\u001b[0m\u001b[0;34m.\u001b[0m\u001b[0m_NotOkStatusException\u001b[0m \u001b[0;32mas\u001b[0m \u001b[0me\u001b[0m\u001b[0;34m:\u001b[0m\u001b[0;34m\u001b[0m\u001b[0;34m\u001b[0m\u001b[0m\n",
            "\u001b[0;31mKeyboardInterrupt\u001b[0m: "
          ]
        }
      ]
    },
    {
      "cell_type": "code",
      "source": [
        "print(y_test[0:10])"
      ],
      "metadata": {
        "colab": {
          "base_uri": "https://localhost:8080/"
        },
        "id": "IX8I2VulCef6",
        "outputId": "1a70d8e4-5ff9-4963-b70b-5eab58dd9dd2"
      },
      "execution_count": null,
      "outputs": [
        {
          "output_type": "stream",
          "name": "stdout",
          "text": [
            "[[0. 0. 0. 0. 0. 0. 0. 1. 0. 0.]\n",
            " [0. 0. 1. 0. 0. 0. 0. 0. 0. 0.]\n",
            " [0. 1. 0. 0. 0. 0. 0. 0. 0. 0.]\n",
            " [1. 0. 0. 0. 0. 0. 0. 0. 0. 0.]\n",
            " [0. 0. 0. 0. 1. 0. 0. 0. 0. 0.]\n",
            " [0. 1. 0. 0. 0. 0. 0. 0. 0. 0.]\n",
            " [0. 0. 0. 0. 1. 0. 0. 0. 0. 0.]\n",
            " [0. 0. 0. 0. 0. 0. 0. 0. 0. 1.]\n",
            " [0. 0. 0. 0. 0. 1. 0. 0. 0. 0.]\n",
            " [0. 0. 0. 0. 0. 0. 0. 0. 0. 1.]]\n"
          ]
        }
      ]
    },
    {
      "cell_type": "code",
      "source": [
        "selective_classification_ensemble_accuracy, individual_accuracies, rate_same = selectiveClassificationPredictions(shard_slice_weights, x_test, y_test, 1)"
      ],
      "metadata": {
        "id": "gsmcq4ohA1_K"
      },
      "execution_count": null,
      "outputs": []
    },
    {
      "cell_type": "code",
      "source": [
        "print(selective_classification_ensemble_accuracy)\n",
        "print(rate_same)\n",
        "print(individual_accuracies)"
      ],
      "metadata": {
        "colab": {
          "base_uri": "https://localhost:8080/"
        },
        "id": "oPnARnzpLepJ",
        "outputId": "2f909b43-6011-4403-809e-f2ae91b71245"
      },
      "execution_count": null,
      "outputs": [
        {
          "output_type": "stream",
          "name": "stdout",
          "text": [
            "0.9783\n",
            "[0.974, 0.9739]\n"
          ]
        }
      ]
    },
    {
      "cell_type": "code",
      "source": [
        "majority_ensemble_accuracy, weighted_ensemble_accuracy, individual_accuracies, rate_same = testEnsemble(ensemble, x_test, y_test)\n",
        "print(f'Majority ensemble accuracy: {majority_ensemble_accuracy}')\n",
        "print(f'Weighted ensemble accuracy: {weighted_ensemble_accuracy}')\n",
        "print(f'Proportion of labels that were the same from both ensembling methods: {rate_same}')\n",
        "print(f'Individual Accuracies: {[round(acc, 4) for acc in individual_accuracies]}')"
      ],
      "metadata": {
        "colab": {
          "base_uri": "https://localhost:8080/"
        },
        "id": "ZebQxjZpv_8y",
        "outputId": "2a403493-7ada-4040-a4d4-cb6b3079ebdf"
      },
      "execution_count": null,
      "outputs": [
        {
          "output_type": "stream",
          "name": "stdout",
          "text": [
            "Majority ensemble accuracy: 0.9676\n",
            "Weighted ensemble accuracy: 0.9676\n",
            "Proportion of labels that were the same from both ensembling methods: 1.0\n",
            "Individual Accuracies: [0.956, 0.9544, 0.9672, 0.965, 0.9628]\n"
          ]
        }
      ]
    },
    {
      "cell_type": "code",
      "source": [
        "from google.colab import drive\n",
        "drive.mount('/content/gdrive')"
      ],
      "metadata": {
        "colab": {
          "base_uri": "https://localhost:8080/"
        },
        "id": "G3arBUWmrFRj",
        "outputId": "66123c52-321d-4a0a-b8fc-bb6ce2fb1909"
      },
      "execution_count": null,
      "outputs": [
        {
          "output_type": "stream",
          "name": "stdout",
          "text": [
            "Mounted at /content/gdrive\n"
          ]
        }
      ]
    },
    {
      "cell_type": "code",
      "source": [
        "print(f'Creating ensemble using {5} shards and {100} slices...')\n",
        "ensemble, shard_slice_weights = createEnsembleSISA(5, 100, createModel, 100)\n",
        "\n",
        "model_save_name = '5_100_SISA_ensemble_and_checkpoint_weights.npy'\n",
        "path = F\"/content/gdrive/My Drive/{model_save_name}\"\n",
        "np.save(path, shard_slice_weights)\n",
        "print('')"
      ],
      "metadata": {
        "colab": {
          "base_uri": "https://localhost:8080/"
        },
        "id": "KYHwfpVYN-hk",
        "outputId": "5cb158d2-6bfb-43e6-f9de-d46abbb6bf5c"
      },
      "execution_count": null,
      "outputs": [
        {
          "output_type": "stream",
          "name": "stdout",
          "text": [
            "Creating ensemble using 5 shards and 100 slices...\n"
          ]
        },
        {
          "output_type": "stream",
          "name": "stderr",
          "text": [
            "/usr/local/lib/python3.10/dist-packages/numpy/lib/npyio.py:521: VisibleDeprecationWarning: Creating an ndarray from ragged nested sequences (which is a list-or-tuple of lists-or-tuples-or ndarrays with different lengths or shapes) is deprecated. If you meant to do this, you must specify 'dtype=object' when creating the ndarray.\n",
            "  arr = np.asanyarray(arr)\n"
          ]
        },
        {
          "output_type": "stream",
          "name": "stdout",
          "text": [
            "\n"
          ]
        }
      ]
    },
    {
      "cell_type": "code",
      "source": [
        "thresholds = [0, 2, 5, 10, 15, 20, 25, 30, 40, 50]\n",
        "\n",
        "print(f'Accuracies before unlearning {100} points:')\n",
        "print('')\n",
        "majority_ensemble_accuracy_initial, weighted_ensemble_accuracy_initial, individual_accuracies_initial, rate_same_weighted_initial = testEnsemble(ensemble, x_test, y_test)\n",
        "print(f'Majority ensemble Accuracy: {majority_ensemble_accuracy_initial}')\n",
        "print(f'Weighted ensemble Accuracy: {weighted_ensemble_accuracy_initial}')\n",
        "print(f'Proportion of labels that were the same from both ensembling methods: {rate_same_weighted_initial}')\n",
        "print(f'Individual Accuracies: {[round(acc, 4) for acc in individual_accuracies_initial]}')\n",
        "print('')\n",
        "\n",
        "selective_classification_ensemble_accuracy_initial, individual_accuracies_selective_initial, rate_same_selective_initial = selectiveClassificationPredictionsManyThresholds(shard_slice_weights, x_test, y_test, thresholds)\n",
        "\n",
        "print(f'Selective classification ensemble accuracy: {selective_classification_ensemble_accuracy_initial}')\n",
        "print(f'Proportion of labels that were the same from both ensembling methods: {rate_same_selective_initial}')\n",
        "print(f'Individual Accuracies: {[round(acc, 4) for acc in individual_accuracies_selective_initial]}')\n",
        "print('')\n",
        "\n",
        "print(f'Unlearning {100} points from shard {0}, slice {4}... (arbitrary shard and slice)')\n",
        "duration, ensemble, shard_slice_weights = unlearnDataSISA(100, 0, 4, ensemble, shard_slice_weights)\n",
        "print(f'Unlearning duration: {duration} s')\n",
        "print('')\n",
        "\n",
        "print(f'Accuracies after unlearning {100} points:')\n",
        "majority_ensemble_accuracy_after, weighted_ensemble_accuracy_after, individual_accuracies_after, rate_same_weighted_after = testEnsemble(ensemble, x_test, y_test)\n",
        "print(f'Majority ensemble Accuracy: {majority_ensemble_accuracy_after}')\n",
        "print(f'Weighted ensemble Accuracy: {weighted_ensemble_accuracy_after}')\n",
        "print(f'Proportion of labels that were the same from both ensembling methods: {rate_same_weighted_after}')\n",
        "print(f'Individual Accuracies: {[round(acc, 4) for acc in individual_accuracies_after]}')\n",
        "print('')\n",
        "selective_classification_ensemble_accuracy_after, individual_accuracies_after, rate_same_after = selectiveClassificationPredictionsManyThresholds(shard_slice_weights, x_test, y_test, thresholds)\n",
        "\n",
        "print(f'Selective classification ensemble accuracy: {selective_classification_ensemble_accuracy}')\n",
        "print(f'Proportion of labels that were the same from both ensembling methods: {rate_same}')\n",
        "print(f'Individual Accuracies: {[round(acc, 4) for acc in individual_accuracies]}')\n",
        "print('-------------------------------------------')"
      ],
      "metadata": {
        "id": "Nf30iH3_-uaP"
      },
      "execution_count": null,
      "outputs": []
    },
    {
      "cell_type": "code",
      "source": [
        "# thresholds = [0, 2, 5, 10, 20, 25, 30, 40, 50]\n",
        "thresholds = [0, 2, 5]\n",
        "\n",
        "print(f'Accuracies before unlearning {100} points:')\n",
        "print('')\n",
        "majority_ensemble_accuracy, weighted_ensemble_accuracy, individual_accuracies, rate_same = testEnsemble(ensemble, x_test, y_test)\n",
        "print(f'Majority ensemble Accuracy: {majority_ensemble_accuracy}')\n",
        "print(f'Weighted ensemble Accuracy: {weighted_ensemble_accuracy}')\n",
        "print(f'Proportion of labels that were the same from both ensembling methods: {rate_same}')\n",
        "print(f'Individual Accuracies: {[round(acc, 4) for acc in individual_accuracies]}')\n",
        "print('')\n",
        "\n",
        "selective_classification_ensemble_accuracy, individual_accuracies, rate_same = selectiveClassificationPredictionsManyThresholds(shard_slice_weights, x_test, y_test, thresholds)\n",
        "np.save('/content/gdrive/My Drive/selective_classification_ensemble_accuracy_before.npy', selective_classification_ensemble_accuracy)\n",
        "np.save('/content/gdrive/My Drive/individual_accuracies_before.npy', individual_accuracies)\n",
        "np.save('/content/gdrive/My Drive/rate_same_before.npy', rate_same)\n",
        "\n",
        "print(f'Selective classification ensemble accuracy: {selective_classification_ensemble_accuracy}')\n",
        "print(f'Proportion of labels that were the same from both ensembling methods: {rate_same}')\n",
        "print(f'Individual Accuracies: {[round(acc, 4) for acc in individual_accuracies]}')\n",
        "print('')\n",
        "\n",
        "print(f'Unlearning {100} points from shard {0}, slice {4}... (arbitrary shard and slice)')\n",
        "duration, ensemble, shard_slice_weights = unlearnData2(100, 0, 4, ensemble, shard_slice_weights)\n",
        "print(f'Unlearning duration: {duration} s')\n",
        "print('')\n",
        "\n",
        "print(f'Accuracies after unlearning {100} points:')\n",
        "majority_ensemble_accuracy, weighted_ensemble_accuracy, individual_accuracies, rate_same = testEnsemble(ensemble, x_test, y_test)\n",
        "print(f'Majority ensemble Accuracy: {majority_ensemble_accuracy}')\n",
        "print(f'Weighted ensemble Accuracy: {weighted_ensemble_accuracy}')\n",
        "print(f'Proportion of labels that were the same from both ensembling methods: {rate_same}')\n",
        "print(f'Individual Accuracies: {[round(acc, 4) for acc in individual_accuracies]}')\n",
        "print('')\n",
        "selective_classification_ensemble_accuracy, individual_accuracies, rate_same = selectiveClassificationPredictionsManyThresholds(shard_slice_weights, x_test, y_test, thresholds)\n",
        "np.save('/content/gdrive/My Drive/selective_classification_ensemble_accuracy_after.npy', selective_classification_ensemble_accuracy)\n",
        "np.save('/content/gdrive/My Drive/individual_accuracies_after.npy', individual_accuracies)\n",
        "np.save('/content/gdrive/My Drive/rate_same_after.npy', rate_same)\n",
        "\n",
        "print(f'Selective classification ensemble accuracy: {selective_classification_ensemble_accuracy}')\n",
        "print(f'Proportion of labels that were the same from both ensembling methods: {rate_same}')\n",
        "print(f'Individual Accuracies: {[round(acc, 4) for acc in individual_accuracies]}')\n",
        "print('-------------------------------------------')"
      ],
      "metadata": {
        "colab": {
          "base_uri": "https://localhost:8080/"
        },
        "id": "ucmPnFbfsYXL",
        "outputId": "62e9f70e-f3ce-4c58-c261-8e3f5b5f7611"
      },
      "execution_count": null,
      "outputs": [
        {
          "output_type": "stream",
          "name": "stdout",
          "text": [
            "Accuracies before unlearning 100 points:\n",
            "\n",
            "Majority ensemble Accuracy: 0.9658\n",
            "Weighted ensemble Accuracy: 0.9658\n",
            "Proportion of labels that were the same from both ensembling methods: 1.0\n",
            "Individual Accuracies: [0.9588, 0.9658, 0.963, 0.965, 0.9586]\n",
            "\n",
            "threshold:  0\n",
            "threshold:  2\n",
            "threshold:  5\n",
            "threshold:  10\n"
          ]
        }
      ]
    },
    {
      "cell_type": "code",
      "source": [
        "selective_classification_ensemble_accuracy, individual_accuracies, rate_same = selectiveClassificationPredictions(shard_slice_weights, x_test, y_test, 2)\n"
      ],
      "metadata": {
        "id": "_HrYWsiPSCdE"
      },
      "execution_count": null,
      "outputs": []
    },
    {
      "cell_type": "code",
      "source": [
        "print(selective_classification_ensemble_accuracy)\n",
        "print(rate_same)\n",
        "print(individual_accuracies)"
      ],
      "metadata": {
        "colab": {
          "base_uri": "https://localhost:8080/"
        },
        "id": "i2VnIDUddU6W",
        "outputId": "2ad67085-0736-4193-b63c-9922fc9b1d49"
      },
      "execution_count": null,
      "outputs": [
        {
          "output_type": "stream",
          "name": "stdout",
          "text": [
            "0.9649\n",
            "0.9877\n",
            "[0.9452, 0.9466, 0.9588, 0.9546, 0.9575]\n"
          ]
        }
      ]
    },
    {
      "cell_type": "code",
      "source": [
        "majority_ensemble_accuracy, weighted_ensemble_accuracy, individual_accuracies, rate_same = testEnsemble(ensemble, x_test, y_test)\n",
        "print(f'Majority ensemble Accuracy: {majority_ensemble_accuracy}')\n",
        "print(f'Weighted ensemble Accuracy: {weighted_ensemble_accuracy}')\n",
        "print(f'Proportion of labels that were the same from both ensembling methods: {rate_same}')\n",
        "print(f'Individual Accuracies: {[round(acc, 4) for acc in individual_accuracies]}')\n",
        "print('')"
      ],
      "metadata": {
        "colab": {
          "base_uri": "https://localhost:8080/"
        },
        "id": "dYH-oyeJOn6S",
        "outputId": "f8051f9b-a024-4c97-cd02-812e01e652a5"
      },
      "execution_count": null,
      "outputs": [
        {
          "output_type": "stream",
          "name": "stdout",
          "text": [
            "Majority ensemble Accuracy: 0.9676\n",
            "Weighted ensemble Accuracy: 0.9676\n",
            "Proportion of labels that were the same from both ensembling methods: 1.0\n",
            "Individual Accuracies: [0.956, 0.9544, 0.9672, 0.965, 0.9628]\n",
            "\n"
          ]
        }
      ]
    },
    {
      "cell_type": "code",
      "source": [
        "thresholds = range(0, 5, 1)\n",
        "selective_classification_ensemble_accuracy, individual_accuracies, rate_same = selectiveClassificationPredictionsManyThresholds(shard_slice_weights, x_test, y_test, thresholds)\n",
        "print(selective_classification_ensemble_accuracy)\n",
        "print(rate_same)\n",
        "print(individual_accuracies)"
      ],
      "metadata": {
        "colab": {
          "base_uri": "https://localhost:8080/"
        },
        "id": "qo9lj83Tddzf",
        "outputId": "1fafb483-a0d8-451a-be9b-d919cee40c73"
      },
      "execution_count": null,
      "outputs": [
        {
          "output_type": "stream",
          "name": "stdout",
          "text": [
            "[0.9653, 0.9646, 0.9645, 0.9649, 0.9647]\n",
            "[0.9936, 0.9922, 0.988, 0.9825, 0.9733]\n",
            "[[0.9523, 0.9521, 0.9641, 0.9627, 0.9634], [0.9498, 0.9496, 0.9622, 0.9606, 0.9607], [0.9453, 0.9468, 0.9594, 0.9556, 0.9578], [0.9392, 0.9416, 0.9548, 0.9498, 0.9545], [0.9315, 0.935, 0.9479, 0.9446, 0.9484]]\n"
          ]
        }
      ]
    },
    {
      "cell_type": "code",
      "source": [
        "thresholds = []\n",
        "\n",
        "print(f'Creating ensemble using {5} shards and {100} slices...')\n",
        "ensemble, shard_slice_weights = createEnsembleSISA(5, 100, createModel, 5)\n",
        "print('')\n",
        "\n",
        "print(f'Accuracies before unlearning {100} points:')\n",
        "print('')\n",
        "majority_ensemble_accuracy, weighted_ensemble_accuracy, individual_accuracies, rate_same = testEnsemble(ensemble, x_test, y_test)\n",
        "print(f'Majority ensemble Accuracy: {majority_ensemble_accuracy}')\n",
        "print(f'Weighted ensemble Accuracy: {weighted_ensemble_accuracy}')\n",
        "print(f'Proportion of labels that were the same from both ensembling methods: {rate_same}')\n",
        "print(f'Individual Accuracies: {[round(acc, 4) for acc in individual_accuracies]}')\n",
        "print('')\n",
        "selective_classification_ensemble_accuracy, individual_accuracies, rate_same = selectiveClassificationPredictionsManyThresholds(shard_slice_weights, x_test, y_test, thresholds)\n",
        "print('')\n",
        "\n",
        "print(f'Unlearning {100} points from shard {0}, slice {4}... (arbitrary shard and slice)')\n",
        "duration, ensemble, shard_slice_weights = unlearnData2(100, 0, 4, ensemble, shard_slice_weights)\n",
        "print(f'Unlearning duration: {duration} s')\n",
        "print('')\n",
        "\n",
        "print(f'Accuracies after unlearning {100} points:')\n",
        "majority_ensemble_accuracy, weighted_ensemble_accuracy, individual_accuracies, rate_same = testEnsemble(ensemble, x_test, y_test)\n",
        "print(f'Majority ensemble Accuracy: {majority_ensemble_accuracy}')\n",
        "print(f'Weighted ensemble Accuracy: {weighted_ensemble_accuracy}')\n",
        "print(f'Proportion of labels that were the same from both ensembling methods: {rate_same}')\n",
        "print(f'Individual Accuracies: {[round(acc, 4) for acc in individual_accuracies]}')\n",
        "print('-------------------------------------------')"
      ],
      "metadata": {
        "colab": {
          "base_uri": "https://localhost:8080/"
        },
        "id": "P154IozwKZ-z",
        "outputId": "c5ec0e6c-09d0-4abc-ad57-d6082b80e5db"
      },
      "execution_count": null,
      "outputs": [
        {
          "output_type": "stream",
          "name": "stdout",
          "text": [
            "Creating ensemble using 100 shards and 5 slices...\n",
            "\n",
            "Accuracies before unlearning 100 points:\n",
            "Majority ensemble Accuracy: 0.8208\n",
            "Weighted ensemble Accuracy: 0.8214\n",
            "Proportion of labels that were the same from both ensembling methods: 0.9986\n",
            "Individual Accuracies: [0.7536, 0.5762, 0.7078, 0.6486, 0.7456, 0.7004, 0.669, 0.7044, 0.6814, 0.7592, 0.653, 0.6742, 0.6436, 0.7516, 0.7786, 0.7484, 0.7412, 0.6664, 0.6284, 0.7296, 0.7658, 0.6652, 0.714, 0.6596, 0.7848, 0.6474, 0.7084, 0.66, 0.6472, 0.783, 0.709, 0.7366, 0.6758, 0.667, 0.6362, 0.6928, 0.6562, 0.7588, 0.6758, 0.6842, 0.6278, 0.7614, 0.7078, 0.706, 0.7086, 0.6608, 0.715, 0.5996, 0.7278, 0.7522, 0.6522, 0.7378, 0.6902, 0.7238, 0.7172, 0.7644, 0.7634, 0.742, 0.6448, 0.7096, 0.6232, 0.687, 0.6958, 0.6854, 0.6908, 0.6938, 0.6614, 0.6188, 0.6524, 0.7916, 0.7098, 0.7378, 0.6224, 0.6406, 0.743, 0.7094, 0.77, 0.6508, 0.7056, 0.7376, 0.5942, 0.6732, 0.649, 0.6804, 0.736, 0.7604, 0.7, 0.569, 0.6386, 0.751, 0.6872, 0.7244, 0.7174, 0.7328, 0.725, 0.7074, 0.63, 0.6632, 0.7174, 0.7264]\n",
            "\n",
            "Unlearning 100 points from shard 0, slice 4... (arbitrary shard and slice)\n",
            "Unlearning duration: 0.2258005142211914 s\n",
            "\n",
            "Accuracies after unlearning 100 points:\n",
            "Majority ensemble Accuracy: 0.8206\n",
            "Weighted ensemble Accuracy: 0.8214\n",
            "Proportion of labels that were the same from both ensembling methods: 0.9984\n",
            "Individual Accuracies: [0.7394, 0.5762, 0.7078, 0.6486, 0.7456, 0.7004, 0.669, 0.7044, 0.6814, 0.7592, 0.653, 0.6742, 0.6436, 0.7516, 0.7786, 0.7484, 0.7412, 0.6664, 0.6284, 0.7296, 0.7658, 0.6652, 0.714, 0.6596, 0.7848, 0.6474, 0.7084, 0.66, 0.6472, 0.783, 0.709, 0.7366, 0.6758, 0.667, 0.6362, 0.6928, 0.6562, 0.7588, 0.6758, 0.6842, 0.6278, 0.7614, 0.7078, 0.706, 0.7086, 0.6608, 0.715, 0.5996, 0.7278, 0.7522, 0.6522, 0.7378, 0.6902, 0.7238, 0.7172, 0.7644, 0.7634, 0.742, 0.6448, 0.7096, 0.6232, 0.687, 0.6958, 0.6854, 0.6908, 0.6938, 0.6614, 0.6188, 0.6524, 0.7916, 0.7098, 0.7378, 0.6224, 0.6406, 0.743, 0.7094, 0.77, 0.6508, 0.7056, 0.7376, 0.5942, 0.6732, 0.649, 0.6804, 0.736, 0.7604, 0.7, 0.569, 0.6386, 0.751, 0.6872, 0.7244, 0.7174, 0.7328, 0.725, 0.7074, 0.63, 0.6632, 0.7174, 0.7264]\n",
            "-------------------------------------------\n"
          ]
        }
      ]
    },
    {
      "cell_type": "code",
      "source": [
        "print(f'Creating ensemble using {100} shards and {5} slices...')\n",
        "ensemble, shard_slice_weights = createEnsemble2(100, 5, createModel, 5)\n",
        "duration, ensemble, shard_slice_weights = unlearnData2(100, 0, 4, ensemble, shard_slice_weights)\n",
        "print(f'Unlearning duration: {duration} s')"
      ],
      "metadata": {
        "colab": {
          "base_uri": "https://localhost:8080/"
        },
        "id": "smqetOfijwZb",
        "outputId": "f4fbd181-6ab9-4622-8d64-9ede51532c11"
      },
      "execution_count": null,
      "outputs": [
        {
          "output_type": "stream",
          "name": "stdout",
          "text": [
            "Creating ensemble using 100 shards and 5 slices...\n",
            "Unlearning duration: 0.24663972854614258 s\n"
          ]
        }
      ]
    },
    {
      "cell_type": "code",
      "source": [
        "num_shards = [1, 2, 5, 10, 25, 50, 75, 100]\n",
        "majority_accs_initial = []\n",
        "weighted_accs_initial = []\n",
        "indiv_accs_initial = []\n",
        "rate_same_initial = []\n",
        "durations = []\n",
        "majority_accs_unlearned = []\n",
        "weighted_accs_unlearned = []\n",
        "indiv_accs_unlearned = []\n",
        "rate_same_unlearned = []\n",
        "\n",
        "for n in num_shards:\n",
        "  print(f'Creating ensemble using {n} shards and {5} slices...')\n",
        "  ensemble, shard_slice_weights = createEnsembleSISA(n, 5, createModel, 5)\n",
        "  print('')\n",
        "\n",
        "  print(f'Accuracies before unlearning {100} points:')\n",
        "  majority_ensemble_accuracy, weighted_ensemble_accuracy, individual_accuracies, rate_same = testEnsemble(ensemble, x_test, y_test)\n",
        "  majority_accs_initial.append(majority_ensemble_accuracy)\n",
        "  weighted_accs_initial.append(weighted_ensemble_accuracy)\n",
        "  rate_same_initial.append(rate_same)\n",
        "  indiv_accs_initial.append(individual_accuracies)\n",
        "  print(f'Majority ensemble Accuracy: {majority_ensemble_accuracy}')\n",
        "  print(f'Weighted ensemble Accuracy: {weighted_ensemble_accuracy}')\n",
        "  print(f'Proportion of labels that were the same from both ensembling methods: {rate_same}')\n",
        "  print(f'Individual Accuracies: {[round(acc, 4) for acc in individual_accuracies]}')\n",
        "  print('')\n",
        "\n",
        "  print(f'Unlearning {100} points from shard {0}, slice {4}... (arbitrary shard and slice)')\n",
        "  duration, ensemble, shard_slice_weights = unlearnDataSISA(100, 0, 4, ensemble, shard_slice_weights)\n",
        "  durations.append(duration)\n",
        "  print(f'Unlearning duration: {duration} s')\n",
        "  print('')\n",
        "\n",
        "  print(f'Accuracies after unlearning {100} points:')\n",
        "  majority_ensemble_accuracy, weighted_ensemble_accuracy, individual_accuracies, rate_same = testEnsemble(ensemble, x_test, y_test)\n",
        "  majority_accs_unlearned.append(majority_ensemble_accuracy)\n",
        "  weighted_accs_unlearned.append(weighted_ensemble_accuracy)\n",
        "  rate_same_unlearned.append(rate_same)\n",
        "  indiv_accs_unlearned.append(individual_accuracies)\n",
        "  print(f'Majority ensemble Accuracy: {majority_ensemble_accuracy}')\n",
        "  print(f'Weighted ensemble Accuracy: {weighted_ensemble_accuracy}')\n",
        "  print(f'Proportion of labels that were the same from both ensembling methods: {rate_same}')\n",
        "  print(f'Individual Accuracies: {[round(acc, 4) for acc in individual_accuracies]}')\n",
        "  print('-------------------------------------------')\n",
        "  print('\\n')"
      ],
      "metadata": {
        "id": "HWVJAJri7Xy8",
        "colab": {
          "base_uri": "https://localhost:8080/"
        },
        "outputId": "ccdd8059-85ec-4361-e75a-553ff5b25ccd"
      },
      "execution_count": null,
      "outputs": [
        {
          "output_type": "stream",
          "name": "stdout",
          "text": [
            "Creating ensemble using 100 shards and 5 slices...\n",
            "\n",
            "Accuracies before unlearning 100 points:\n",
            "Majority ensemble Accuracy: 0.8186\n",
            "Weighted ensemble Accuracy: 0.8196\n",
            "Proportion of labels that were the same from both ensembling methods: 0.998\n",
            "Individual Accuracies: [0.7136, 0.7382, 0.684, 0.7568, 0.7084, 0.6712, 0.7088, 0.67, 0.6836, 0.6414, 0.6896, 0.6544, 0.6804, 0.6246, 0.7166, 0.6704, 0.7002, 0.5994, 0.6472, 0.7322, 0.748, 0.7168, 0.691, 0.6842, 0.6624, 0.714, 0.7336, 0.6952, 0.7372, 0.682, 0.7412, 0.5056, 0.7406, 0.708, 0.6112, 0.7188, 0.6796, 0.5942, 0.6954, 0.7172, 0.7072, 0.7388, 0.7444, 0.6944, 0.6902, 0.7156, 0.6726, 0.714, 0.6048, 0.707, 0.7492, 0.6982, 0.6562, 0.7518, 0.728, 0.7302, 0.611, 0.7022, 0.6824, 0.7458, 0.7018, 0.729, 0.6714, 0.6888, 0.7434, 0.7256, 0.68, 0.6804, 0.668, 0.6136, 0.6152, 0.7376, 0.7448, 0.6678, 0.7398, 0.661, 0.7526, 0.7228, 0.7372, 0.7264, 0.6796, 0.7302, 0.6826, 0.6806, 0.71, 0.6706, 0.7312, 0.663, 0.7396, 0.6716, 0.7166, 0.6938, 0.722, 0.6104, 0.7078, 0.6886, 0.7438, 0.6858, 0.6702, 0.699]\n",
            "\n",
            "Unlearning 100 points from shard 0, slice 4... (arbitrary shard and slice)\n",
            "Unlearning duration: 0.20896577835083008 s\n",
            "\n",
            "Accuracies after unlearning 100 points:\n",
            "Majority ensemble Accuracy: 0.8186\n",
            "Weighted ensemble Accuracy: 0.821\n",
            "Proportion of labels that were the same from both ensembling methods: 0.9966\n",
            "Individual Accuracies: [0.6844, 0.7382, 0.684, 0.7568, 0.7084, 0.6712, 0.7088, 0.67, 0.6836, 0.6414, 0.6896, 0.6544, 0.6804, 0.6246, 0.7166, 0.6704, 0.7002, 0.5994, 0.6472, 0.7322, 0.748, 0.7168, 0.691, 0.6842, 0.6624, 0.714, 0.7336, 0.6952, 0.7372, 0.682, 0.7412, 0.5056, 0.7406, 0.708, 0.6112, 0.7188, 0.6796, 0.5942, 0.6954, 0.7172, 0.7072, 0.7388, 0.7444, 0.6944, 0.6902, 0.7156, 0.6726, 0.714, 0.6048, 0.707, 0.7492, 0.6982, 0.6562, 0.7518, 0.728, 0.7302, 0.611, 0.7022, 0.6824, 0.7458, 0.7018, 0.729, 0.6714, 0.6888, 0.7434, 0.7256, 0.68, 0.6804, 0.668, 0.6136, 0.6152, 0.7376, 0.7448, 0.6678, 0.7398, 0.661, 0.7526, 0.7228, 0.7372, 0.7264, 0.6796, 0.7302, 0.6826, 0.6806, 0.71, 0.6706, 0.7312, 0.663, 0.7396, 0.6716, 0.7166, 0.6938, 0.722, 0.6104, 0.7078, 0.6886, 0.7438, 0.6858, 0.6702, 0.699]\n",
            "-------------------------------------------\n",
            "\n",
            "\n"
          ]
        }
      ]
    },
    {
      "cell_type": "markdown",
      "source": [
        "### Plotting Results"
      ],
      "metadata": {
        "id": "LcAgMyA1ZPsi"
      }
    },
    {
      "cell_type": "code",
      "source": [
        "# num_shards = [1, 2, 5, 10, 25, 50, 100]\n",
        "# majority_accs_initial = [0.9852, 0.9798, 0.9674, 0.9386, 0.892, 0.8118, 0.7634]\n",
        "# weighted_accs_initial = [0.9852, 0.9798, 0.9674, 0.9386, 0.892, 0.8136, 0.7604]\n",
        "# durations = [0.8676183223724365, 0.6991350650787354, 0.3996865749359131, 0.14453744888305664, 0.09999442100524902, 0.08209109306335449, 0.3749871253967285]\n",
        "# majority_accs_unlearned = [0.9884, 0.9816, 0.9668, 0.9394, 0.8926, 0.8128, 0.7626]\n",
        "# weighted_accs_unlearned = [0.9884, 0.9816, 0.967, 0.9396, 0.8932, 0.8146, 0.761]"
      ],
      "metadata": {
        "id": "mCzROAzsI36K"
      },
      "execution_count": null,
      "outputs": []
    },
    {
      "cell_type": "code",
      "source": [
        "num_shards = [1, 2, 5, 10, 25, 50, 75, 100]\n",
        "\n",
        "majority_accs_initial = [0.9888, 0.982, 0.9714, 0.949, 0.9184, 0.8682, 0.8448, 0.8208]\n",
        "weighted_accs_initial = [0.9888, 0.982, 0.9714, 0.949, 0.9182, 0.8686, 0.8448, 0.8214]\n",
        "rate_same_initial = [1.0, 1.0, 1.0, 1.0, 0.9992, 0.9994, 0.9998, 0.9986]\n",
        "indiv_accs_initial = [[0.9888], [0.9802, 0.9732], [0.968, 0.963, 0.9582, 0.9548, 0.96], [0.9378, 0.9386, 0.9346, 0.9382, 0.9232, 0.927, 0.936, 0.9374, 0.9376, 0.9336], [0.8644, 0.8652, 0.8718, 0.892, 0.8858, 0.901, 0.8928, 0.8822, 0.887, 0.889, 0.8796, 0.872, 0.8612, 0.8926, 0.8662, 0.8822, 0.8738, 0.8856, 0.8828, 0.864, 0.8844, 0.8688, 0.9036, 0.8906, 0.881], [0.81, 0.8202, 0.8188, 0.7554, 0.8, 0.8052, 0.799, 0.8134, 0.8028, 0.783, 0.8064, 0.7576, 0.834, 0.8316, 0.7824, 0.7842, 0.82, 0.832, 0.8052, 0.8286, 0.8438, 0.8372, 0.8428, 0.8006, 0.8188, 0.8262, 0.801, 0.8214, 0.8136, 0.758, 0.8166, 0.8258, 0.8146, 0.7702, 0.786, 0.8188, 0.8, 0.797, 0.8286, 0.7788, 0.8334, 0.8304, 0.8004, 0.821, 0.7956, 0.8108, 0.7768, 0.7884, 0.8408, 0.769], [0.7706, 0.7818, 0.7238, 0.7882, 0.7876, 0.7292, 0.7386, 0.7664, 0.7494, 0.7842, 0.7608, 0.793, 0.7798, 0.7606, 0.6984, 0.8012, 0.7618, 0.7828, 0.7266, 0.7486, 0.7922, 0.7436, 0.7368, 0.7664, 0.7516, 0.7204, 0.7762, 0.7384, 0.7394, 0.7678, 0.7634, 0.7362, 0.7514, 0.715, 0.7738, 0.7176, 0.7728, 0.706, 0.7368, 0.7484, 0.7338, 0.7784, 0.781, 0.8084, 0.7842, 0.7902, 0.8308, 0.7898, 0.786, 0.7926, 0.7416, 0.7966, 0.7216, 0.8008, 0.711, 0.7622, 0.7414, 0.7488, 0.7284, 0.7522, 0.7734, 0.7524, 0.7166, 0.7522, 0.7766, 0.765, 0.751, 0.7522, 0.7282, 0.7454, 0.7842, 0.718, 0.8004, 0.7618, 0.7664], [0.7536, 0.5762, 0.7078, 0.6486, 0.7456, 0.7004, 0.669, 0.7044, 0.6814, 0.7592, 0.653, 0.6742, 0.6436, 0.7516, 0.7786, 0.7484, 0.7412, 0.6664, 0.6284, 0.7296, 0.7658, 0.6652, 0.714, 0.6596, 0.7848, 0.6474, 0.7084, 0.66, 0.6472, 0.783, 0.709, 0.7366, 0.6758, 0.667, 0.6362, 0.6928, 0.6562, 0.7588, 0.6758, 0.6842, 0.6278, 0.7614, 0.7078, 0.706, 0.7086, 0.6608, 0.715, 0.5996, 0.7278, 0.7522, 0.6522, 0.7378, 0.6902, 0.7238, 0.7172, 0.7644, 0.7634, 0.742, 0.6448, 0.7096, 0.6232, 0.687, 0.6958, 0.6854, 0.6908, 0.6938, 0.6614, 0.6188, 0.6524, 0.7916, 0.7098, 0.7378, 0.6224, 0.6406, 0.743, 0.7094, 0.77, 0.6508, 0.7056, 0.7376, 0.5942, 0.6732, 0.649, 0.6804, 0.736, 0.7604, 0.7, 0.569, 0.6386, 0.751, 0.6872, 0.7244, 0.7174, 0.7328, 0.725, 0.7074, 0.63, 0.6632, 0.7174, 0.7264]]\n",
        "\n",
        "durations = [0.838834285736084, 0.5088224411010742, 0.2014145851135254, 0.22742486000061035, 0.08526229858398438, 0.08298730850219727, 0.07172656059265137, 0.2258005142211914]\n",
        "\n",
        "majority_accs_unlearned = [0.9902, 0.9818, 0.9716, 0.9492, 0.9182, 0.8688, 0.8448, 0.8206]\n",
        "weighted_accs_unlearned = [0.9902, 0.9818, 0.9716, 0.9494, 0.9182, 0.8682, 0.8446, 0.8214]\n",
        "rate_same_unlearned = [1.0, 1.0, 1.0, 0.9998, 0.9998, 0.9994, 0.9996, 0.9984]\n",
        "indiv_accs_unlearned = [[0.9902], [0.9794, 0.9732], [0.9602, 0.963, 0.9582, 0.9548, 0.96], [0.9328, 0.9386, 0.9346, 0.9382, 0.9232, 0.927, 0.936, 0.9374, 0.9376, 0.9336], [0.8938, 0.8652, 0.8718, 0.892, 0.8858, 0.901, 0.8928, 0.8822, 0.887, 0.889, 0.8796, 0.872, 0.8612, 0.8926, 0.8662, 0.8822, 0.8738, 0.8856, 0.8828, 0.864, 0.8844, 0.8688, 0.9036, 0.8906, 0.881], [0.8256, 0.8202, 0.8188, 0.7554, 0.8, 0.8052, 0.799, 0.8134, 0.8028, 0.783, 0.8064, 0.7576, 0.834, 0.8316, 0.7824, 0.7842, 0.82, 0.832, 0.8052, 0.8286, 0.8438, 0.8372, 0.8428, 0.8006, 0.8188, 0.8262, 0.801, 0.8214, 0.8136, 0.758, 0.8166, 0.8258, 0.8146, 0.7702, 0.786, 0.8188, 0.8, 0.797, 0.8286, 0.7788, 0.8334, 0.8304, 0.8004, 0.821, 0.7956, 0.8108, 0.7768, 0.7884, 0.8408, 0.769], [0.7652, 0.7818, 0.7238, 0.7882, 0.7876, 0.7292, 0.7386, 0.7664, 0.7494, 0.7842, 0.7608, 0.793, 0.7798, 0.7606, 0.6984, 0.8012, 0.7618, 0.7828, 0.7266, 0.7486, 0.7922, 0.7436, 0.7368, 0.7664, 0.7516, 0.7204, 0.7762, 0.7384, 0.7394, 0.7678, 0.7634, 0.7362, 0.7514, 0.715, 0.7738, 0.7176, 0.7728, 0.706, 0.7368, 0.7484, 0.7338, 0.7784, 0.781, 0.8084, 0.7842, 0.7902, 0.8308, 0.7898, 0.786, 0.7926, 0.7416, 0.7966, 0.7216, 0.8008, 0.711, 0.7622, 0.7414, 0.7488, 0.7284, 0.7522, 0.7734, 0.7524, 0.7166, 0.7522, 0.7766, 0.765, 0.751, 0.7522, 0.7282, 0.7454, 0.7842, 0.718, 0.8004, 0.7618, 0.7664], [0.7394, 0.5762, 0.7078, 0.6486, 0.7456, 0.7004, 0.669, 0.7044, 0.6814, 0.7592, 0.653, 0.6742, 0.6436, 0.7516, 0.7786, 0.7484, 0.7412, 0.6664, 0.6284, 0.7296, 0.7658, 0.6652, 0.714, 0.6596, 0.7848, 0.6474, 0.7084, 0.66, 0.6472, 0.783, 0.709, 0.7366, 0.6758, 0.667, 0.6362, 0.6928, 0.6562, 0.7588, 0.6758, 0.6842, 0.6278, 0.7614, 0.7078, 0.706, 0.7086, 0.6608, 0.715, 0.5996, 0.7278, 0.7522, 0.6522, 0.7378, 0.6902, 0.7238, 0.7172, 0.7644, 0.7634, 0.742, 0.6448, 0.7096, 0.6232, 0.687, 0.6958, 0.6854, 0.6908, 0.6938, 0.6614, 0.6188, 0.6524, 0.7916, 0.7098, 0.7378, 0.6224, 0.6406, 0.743, 0.7094, 0.77, 0.6508, 0.7056, 0.7376, 0.5942, 0.6732, 0.649, 0.6804, 0.736, 0.7604, 0.7, 0.569, 0.6386, 0.751, 0.6872, 0.7244, 0.7174, 0.7328, 0.725, 0.7074, 0.63, 0.6632, 0.7174, 0.7264]]"
      ],
      "metadata": {
        "id": "fjwfJofteRgG"
      },
      "execution_count": null,
      "outputs": []
    },
    {
      "cell_type": "code",
      "source": [
        "# Plotting majority_accs_initial, weighted_accs_initial, majority_accs_unlearned, and weighted_accs_unlearned\n",
        "plt.figure(figsize=(10, 10))\n",
        "plt.plot(num_shards, majority_accs_initial, label='Majority Vote Accuracy Initial', marker='o', linestyle='-', color='r')\n",
        "plt.plot(num_shards, weighted_accs_initial, label='Weighted Vote Accuracy Initial', marker='o', linestyle='-', color='b')\n",
        "plt.plot(num_shards, majority_accs_unlearned, label='Majority Vote Accuracy Unlearned', marker='o', linestyle=':', color='r')\n",
        "plt.plot(num_shards, weighted_accs_unlearned, label='Weighted Vote Accuracy Unlearned', marker='o', linestyle=':', color='b')\n",
        "plt.xlabel('Number of Shards')\n",
        "plt.ylabel('Accuracy')\n",
        "plt.title('Comparison of Accuracies Before and After Unlearning 100 Points')\n",
        "plt.legend()\n",
        "plt.grid(True)\n",
        "plt.show()\n",
        "\n",
        "# Plotting durations vs. num_shards\n",
        "plt.figure(figsize=(10, 6))\n",
        "plt.plot(num_shards, durations, label='Time', marker='o', color='orange')\n",
        "plt.xlabel('Number of Shards')\n",
        "plt.ylabel('Unlearning Time (seconds)')\n",
        "plt.title('Unlearning Time vs. Number of Shards')\n",
        "plt.legend()\n",
        "plt.grid(True)\n",
        "plt.show()"
      ],
      "metadata": {
        "id": "GJGO4F3_aT5E",
        "colab": {
          "base_uri": "https://localhost:8080/",
          "height": 1000
        },
        "outputId": "d2d459db-a096-4b2c-8992-311f606412a4"
      },
      "execution_count": null,
      "outputs": [
        {
          "output_type": "display_data",
          "data": {
            "text/plain": [
              "<Figure size 1000x1000 with 1 Axes>"
            ],
            "image/png": "[encoded data removed]"
          },
          "metadata": {}
        },
        {
          "output_type": "display_data",
          "data": {
            "text/plain": [
              "<Figure size 1000x600 with 1 Axes>"
            ],
            "image/png": "[encoded data removed]"
          },
          "metadata": {}
        }
      ]
    },
    {
      "cell_type": "code",
      "source": [
        "rate_same_MNIST_Fashion_MNIST =  [1.0, 1.0, 1.0, 1.0, 0.9996, 0.999, 0.9976, 0.996, 1.0, 1.0, 1.0, 1.0, 1.0, 0.9988, 0.9972, 0.9972, 1.0, 1.0, 1.0, 1.0, 0.9992, 0.9994, 0.9998, 0.9986, 1.0, 1.0, 1.0, 0.9998, 0.9998, 0.9994, 0.9996, 0.9984]\n",
        "print(np.mean(rate_same_MNIST_Fashion_MNIST))"
      ],
      "metadata": {
        "colab": {
          "base_uri": "https://localhost:8080/"
        },
        "id": "lIy8xfrTMN_6",
        "outputId": "f0de56d7-c98a-4b6b-a4da-6540afa10c24"
      },
      "execution_count": null,
      "outputs": [
        {
          "output_type": "stream",
          "name": "stdout",
          "text": [
            "0.9993562500000001\n"
          ]
        }
      ]
    },
    {
      "cell_type": "code",
      "source": [
        "thresholds = [0, 2, 5, 10, 15, 20, 25, 30, 40, 50]\n",
        "selective_classification_ensemble_accuracy_initial = [0.9625, 0.9626, 0.9626, 0.963, 0.9629, 0.9626, 0.9624, 0.9623, 0.9631, 0.963]\n",
        "selective_classification_ensemble_accuracy_unlearned = [0.9653, 0.9653, 0.9658, 0.9664, 0.9669, 0.967, 0.9671, 0.967, 0.9671, 0.9677]\n",
        "standard_ensemble_accuracy_initial = 0.9625\n",
        "standard_ensemble_accuracy_unlearend = 0.9653\n",
        "\n",
        "# Plotting majority_accs_initial, weighted_accs_initial, majority_accs_unlearned, and weighted_accs_unlearned\n",
        "plt.figure(figsize=(10, 10))\n",
        "plt.plot(thresholds, selective_classification_ensemble_accuracy_initial, label='Selective Classification Accuracy Initial', marker='o', linestyle='-', color='b')\n",
        "plt.plot(thresholds, selective_classification_ensemble_accuracy_unlearned, label='Selective Classification Accuracy Initial', marker='o', linestyle=':', color='b')\n",
        "plt.axhline(y =  standard_ensemble_accuracy_initial, label='Majority Vote Accuracy Initial', color = 'r', linestyle = '-')\n",
        "plt.axhline(y = standard_ensemble_accuracy_unlearend, label='Majority Vote Accuracy Unlearned', color = 'r', linestyle = ':')\n",
        "plt.xlabel('Threshold')\n",
        "plt.ylabel('Accuracy')\n",
        "plt.title('Comparison of Accuracies Before and After Unlearning 100 Points')\n",
        "plt.legend()\n",
        "plt.grid(True)\n",
        "plt.show()"
      ],
      "metadata": {
        "colab": {
          "base_uri": "https://localhost:8080/",
          "height": 872
        },
        "id": "mnYAKk5VOJJ-",
        "outputId": "067e1fa7-8461-449b-e368-7f893169f5c0"
      },
      "execution_count": null,
      "outputs": [
        {
          "output_type": "display_data",
          "data": {
            "text/plain": [
              "<Figure size 1000x1000 with 1 Axes>"
            ],
            "image/png": "[encoded data removed]"
          },
          "metadata": {}
        }
      ]
    }
  ]
}